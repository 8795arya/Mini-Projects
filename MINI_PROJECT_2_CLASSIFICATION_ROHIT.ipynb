{
 "cells": [
  {
   "cell_type": "markdown",
   "id": "8de93317",
   "metadata": {},
   "source": [
    "#                                         Business Objective\n",
    "\n",
    " \n",
    "Build a predictive model to determine the Grade of house (The grades are A,B,C,D, and E)\n"
   ]
  },
  {
   "cell_type": "markdown",
   "id": "e61d3215",
   "metadata": {},
   "source": [
    "### Importing required Python packages"
   ]
  },
  {
   "cell_type": "code",
   "execution_count": 1,
   "id": "65e836d4",
   "metadata": {},
   "outputs": [],
   "source": [
    "import numpy as np  # for numerical data\n",
    "import pandas as pd  # for Dataframes\n",
    "from matplotlib import pyplot  # for visualization\n",
    "import matplotlib.pyplot as plt   # for visualization\n",
    "\n",
    "from sklearn import preprocessing\n",
    "from sklearn.preprocessing import StandardScaler, MinMaxScaler\n",
    "import matplotlib.pyplot as plt\n",
    "from matplotlib import pyplot\n",
    "import seaborn as sns\n",
    "sns.set(style=\"white\") #white background style for seaborn plots\n",
    "sns.set(style=\"whitegrid\", color_codes=True)\n",
    "from sklearn.model_selection import train_test_split\n",
    "from sklearn.linear_model import LogisticRegression\n",
    "import warnings\n",
    "warnings.simplefilter(action='ignore')"
   ]
  },
  {
   "cell_type": "markdown",
   "id": "bb164306",
   "metadata": {},
   "source": [
    "## Loading data file"
   ]
  },
  {
   "cell_type": "code",
   "execution_count": 9,
   "id": "89d66fe4",
   "metadata": {},
   "outputs": [
    {
     "data": {
      "text/html": [
       "<div>\n",
       "<style scoped>\n",
       "    .dataframe tbody tr th:only-of-type {\n",
       "        vertical-align: middle;\n",
       "    }\n",
       "\n",
       "    .dataframe tbody tr th {\n",
       "        vertical-align: top;\n",
       "    }\n",
       "\n",
       "    .dataframe thead th {\n",
       "        text-align: right;\n",
       "    }\n",
       "</style>\n",
       "<table border=\"1\" class=\"dataframe\">\n",
       "  <thead>\n",
       "    <tr style=\"text-align: right;\">\n",
       "      <th></th>\n",
       "      <th>Id</th>\n",
       "      <th>Area(total)</th>\n",
       "      <th>Trooms</th>\n",
       "      <th>Nbedrooms</th>\n",
       "      <th>Nbwashrooms</th>\n",
       "      <th>Twashrooms</th>\n",
       "      <th>roof</th>\n",
       "      <th>Roof(Area)</th>\n",
       "      <th>Lawn(Area)</th>\n",
       "      <th>Nfloors</th>\n",
       "      <th>API</th>\n",
       "      <th>ANB</th>\n",
       "      <th>Expected price</th>\n",
       "      <th>Grade</th>\n",
       "    </tr>\n",
       "  </thead>\n",
       "  <tbody>\n",
       "    <tr>\n",
       "      <th>187</th>\n",
       "      <td>188</td>\n",
       "      <td>343</td>\n",
       "      <td>6</td>\n",
       "      <td>3</td>\n",
       "      <td>3</td>\n",
       "      <td>4</td>\n",
       "      <td>NO</td>\n",
       "      <td>0</td>\n",
       "      <td>113</td>\n",
       "      <td>4</td>\n",
       "      <td>80</td>\n",
       "      <td>1</td>\n",
       "      <td>3910</td>\n",
       "      <td>D</td>\n",
       "    </tr>\n",
       "    <tr>\n",
       "      <th>1951</th>\n",
       "      <td>1952</td>\n",
       "      <td>316</td>\n",
       "      <td>8</td>\n",
       "      <td>5</td>\n",
       "      <td>5</td>\n",
       "      <td>7</td>\n",
       "      <td>NO</td>\n",
       "      <td>0</td>\n",
       "      <td>88</td>\n",
       "      <td>4</td>\n",
       "      <td>42</td>\n",
       "      <td>5</td>\n",
       "      <td>4497</td>\n",
       "      <td>C</td>\n",
       "    </tr>\n",
       "    <tr>\n",
       "      <th>1671</th>\n",
       "      <td>1672</td>\n",
       "      <td>356</td>\n",
       "      <td>6</td>\n",
       "      <td>4</td>\n",
       "      <td>3</td>\n",
       "      <td>4</td>\n",
       "      <td>YES</td>\n",
       "      <td>103</td>\n",
       "      <td>113</td>\n",
       "      <td>4</td>\n",
       "      <td>62</td>\n",
       "      <td>5</td>\n",
       "      <td>3812</td>\n",
       "      <td>C</td>\n",
       "    </tr>\n",
       "    <tr>\n",
       "      <th>374</th>\n",
       "      <td>375</td>\n",
       "      <td>335</td>\n",
       "      <td>5</td>\n",
       "      <td>4</td>\n",
       "      <td>3</td>\n",
       "      <td>4</td>\n",
       "      <td>NO</td>\n",
       "      <td>0</td>\n",
       "      <td>74</td>\n",
       "      <td>3</td>\n",
       "      <td>55</td>\n",
       "      <td>2</td>\n",
       "      <td>3111</td>\n",
       "      <td>D</td>\n",
       "    </tr>\n",
       "    <tr>\n",
       "      <th>1380</th>\n",
       "      <td>1381</td>\n",
       "      <td>330</td>\n",
       "      <td>6</td>\n",
       "      <td>3</td>\n",
       "      <td>2</td>\n",
       "      <td>3</td>\n",
       "      <td>YES</td>\n",
       "      <td>106</td>\n",
       "      <td>108</td>\n",
       "      <td>2</td>\n",
       "      <td>74</td>\n",
       "      <td>4</td>\n",
       "      <td>3394</td>\n",
       "      <td>D</td>\n",
       "    </tr>\n",
       "  </tbody>\n",
       "</table>\n",
       "</div>"
      ],
      "text/plain": [
       "        Id  Area(total)  Trooms  Nbedrooms  Nbwashrooms  Twashrooms roof  \\\n",
       "187    188          343       6          3            3           4   NO   \n",
       "1951  1952          316       8          5            5           7   NO   \n",
       "1671  1672          356       6          4            3           4  YES   \n",
       "374    375          335       5          4            3           4   NO   \n",
       "1380  1381          330       6          3            2           3  YES   \n",
       "\n",
       "      Roof(Area)  Lawn(Area)  Nfloors  API  ANB  Expected price Grade  \n",
       "187            0         113        4   80    1            3910     D  \n",
       "1951           0          88        4   42    5            4497     C  \n",
       "1671         103         113        4   62    5            3812     C  \n",
       "374            0          74        3   55    2            3111     D  \n",
       "1380         106         108        2   74    4            3394     D  "
      ]
     },
     "execution_count": 9,
     "metadata": {},
     "output_type": "execute_result"
    }
   ],
   "source": [
    "house=pd.read_csv('Project2_Classification_HouseGrade_Data_Project.csv')\n",
    "house.sample(5)"
   ]
  },
  {
   "cell_type": "markdown",
   "id": "dd8249eb",
   "metadata": {},
   "source": [
    "### Data Exploration "
   ]
  },
  {
   "cell_type": "code",
   "execution_count": 3,
   "id": "e0034963",
   "metadata": {},
   "outputs": [
    {
     "name": "stdout",
     "output_type": "stream",
     "text": [
      "<class 'pandas.core.frame.DataFrame'>\n",
      "RangeIndex: 3000 entries, 0 to 2999\n",
      "Data columns (total 14 columns):\n",
      " #   Column          Non-Null Count  Dtype \n",
      "---  ------          --------------  ----- \n",
      " 0   Id              3000 non-null   int64 \n",
      " 1   Area(total)     3000 non-null   int64 \n",
      " 2   Trooms          3000 non-null   int64 \n",
      " 3   Nbedrooms       3000 non-null   int64 \n",
      " 4   Nbwashrooms     3000 non-null   int64 \n",
      " 5   Twashrooms      3000 non-null   int64 \n",
      " 6   roof            3000 non-null   object\n",
      " 7   Roof(Area)      3000 non-null   int64 \n",
      " 8   Lawn(Area)      3000 non-null   int64 \n",
      " 9   Nfloors         3000 non-null   int64 \n",
      " 10  API             3000 non-null   int64 \n",
      " 11  ANB             3000 non-null   int64 \n",
      " 12  Expected price  3000 non-null   int64 \n",
      " 13  Grade           3000 non-null   object\n",
      "dtypes: int64(12), object(2)\n",
      "memory usage: 328.2+ KB\n"
     ]
    }
   ],
   "source": [
    "house.info()\n",
    "#Above code provides us the whole information of dataset about thier datatype, memory usage columns etc."
   ]
  },
  {
   "cell_type": "markdown",
   "id": "aa0ff77c",
   "metadata": {},
   "source": [
    "### Dimensions of the data"
   ]
  },
  {
   "cell_type": "code",
   "execution_count": 15,
   "id": "4cdfdf50",
   "metadata": {},
   "outputs": [
    {
     "data": {
      "text/plain": [
       "(3000, 14)"
      ]
     },
     "execution_count": 15,
     "metadata": {},
     "output_type": "execute_result"
    }
   ],
   "source": [
    "house.shape"
   ]
  },
  {
   "cell_type": "code",
   "execution_count": 12,
   "id": "248d774c",
   "metadata": {},
   "outputs": [
    {
     "data": {
      "text/html": [
       "<div>\n",
       "<style scoped>\n",
       "    .dataframe tbody tr th:only-of-type {\n",
       "        vertical-align: middle;\n",
       "    }\n",
       "\n",
       "    .dataframe tbody tr th {\n",
       "        vertical-align: top;\n",
       "    }\n",
       "\n",
       "    .dataframe thead th {\n",
       "        text-align: right;\n",
       "    }\n",
       "</style>\n",
       "<table border=\"1\" class=\"dataframe\">\n",
       "  <thead>\n",
       "    <tr style=\"text-align: right;\">\n",
       "      <th></th>\n",
       "      <th>count</th>\n",
       "      <th>mean</th>\n",
       "      <th>std</th>\n",
       "      <th>min</th>\n",
       "      <th>25%</th>\n",
       "      <th>50%</th>\n",
       "      <th>75%</th>\n",
       "      <th>max</th>\n",
       "    </tr>\n",
       "  </thead>\n",
       "  <tbody>\n",
       "    <tr>\n",
       "      <th>Id</th>\n",
       "      <td>3000.0</td>\n",
       "      <td>1500.500000</td>\n",
       "      <td>866.169729</td>\n",
       "      <td>1.0</td>\n",
       "      <td>750.75</td>\n",
       "      <td>1500.5</td>\n",
       "      <td>2250.25</td>\n",
       "      <td>3000.0</td>\n",
       "    </tr>\n",
       "    <tr>\n",
       "      <th>Area(total)</th>\n",
       "      <td>3000.0</td>\n",
       "      <td>325.117000</td>\n",
       "      <td>20.507742</td>\n",
       "      <td>290.0</td>\n",
       "      <td>308.00</td>\n",
       "      <td>325.0</td>\n",
       "      <td>343.00</td>\n",
       "      <td>360.0</td>\n",
       "    </tr>\n",
       "    <tr>\n",
       "      <th>Trooms</th>\n",
       "      <td>3000.0</td>\n",
       "      <td>7.021667</td>\n",
       "      <td>1.421221</td>\n",
       "      <td>5.0</td>\n",
       "      <td>6.00</td>\n",
       "      <td>7.0</td>\n",
       "      <td>8.00</td>\n",
       "      <td>9.0</td>\n",
       "    </tr>\n",
       "    <tr>\n",
       "      <th>Nbedrooms</th>\n",
       "      <td>3000.0</td>\n",
       "      <td>5.023000</td>\n",
       "      <td>1.634838</td>\n",
       "      <td>2.0</td>\n",
       "      <td>4.00</td>\n",
       "      <td>5.0</td>\n",
       "      <td>6.00</td>\n",
       "      <td>8.0</td>\n",
       "    </tr>\n",
       "    <tr>\n",
       "      <th>Nbwashrooms</th>\n",
       "      <td>3000.0</td>\n",
       "      <td>4.513667</td>\n",
       "      <td>1.715263</td>\n",
       "      <td>1.0</td>\n",
       "      <td>3.00</td>\n",
       "      <td>4.0</td>\n",
       "      <td>6.00</td>\n",
       "      <td>8.0</td>\n",
       "    </tr>\n",
       "    <tr>\n",
       "      <th>Twashrooms</th>\n",
       "      <td>3000.0</td>\n",
       "      <td>6.010667</td>\n",
       "      <td>1.786136</td>\n",
       "      <td>2.0</td>\n",
       "      <td>5.00</td>\n",
       "      <td>6.0</td>\n",
       "      <td>7.00</td>\n",
       "      <td>10.0</td>\n",
       "    </tr>\n",
       "    <tr>\n",
       "      <th>Roof(Area)</th>\n",
       "      <td>3000.0</td>\n",
       "      <td>48.980667</td>\n",
       "      <td>48.746641</td>\n",
       "      <td>0.0</td>\n",
       "      <td>0.00</td>\n",
       "      <td>71.0</td>\n",
       "      <td>96.00</td>\n",
       "      <td>120.0</td>\n",
       "    </tr>\n",
       "    <tr>\n",
       "      <th>Lawn(Area)</th>\n",
       "      <td>3000.0</td>\n",
       "      <td>95.609333</td>\n",
       "      <td>14.837388</td>\n",
       "      <td>70.0</td>\n",
       "      <td>83.00</td>\n",
       "      <td>96.0</td>\n",
       "      <td>109.00</td>\n",
       "      <td>120.0</td>\n",
       "    </tr>\n",
       "    <tr>\n",
       "      <th>Nfloors</th>\n",
       "      <td>3000.0</td>\n",
       "      <td>4.013333</td>\n",
       "      <td>1.621532</td>\n",
       "      <td>1.0</td>\n",
       "      <td>3.00</td>\n",
       "      <td>4.0</td>\n",
       "      <td>5.00</td>\n",
       "      <td>7.0</td>\n",
       "    </tr>\n",
       "    <tr>\n",
       "      <th>API</th>\n",
       "      <td>3000.0</td>\n",
       "      <td>70.190667</td>\n",
       "      <td>17.563460</td>\n",
       "      <td>40.0</td>\n",
       "      <td>55.00</td>\n",
       "      <td>70.0</td>\n",
       "      <td>85.00</td>\n",
       "      <td>100.0</td>\n",
       "    </tr>\n",
       "    <tr>\n",
       "      <th>ANB</th>\n",
       "      <td>3000.0</td>\n",
       "      <td>3.479000</td>\n",
       "      <td>1.694260</td>\n",
       "      <td>1.0</td>\n",
       "      <td>2.00</td>\n",
       "      <td>4.0</td>\n",
       "      <td>5.00</td>\n",
       "      <td>6.0</td>\n",
       "    </tr>\n",
       "    <tr>\n",
       "      <th>Expected price</th>\n",
       "      <td>3000.0</td>\n",
       "      <td>3782.938333</td>\n",
       "      <td>567.189995</td>\n",
       "      <td>2504.0</td>\n",
       "      <td>3354.00</td>\n",
       "      <td>3771.0</td>\n",
       "      <td>4208.00</td>\n",
       "      <td>5216.0</td>\n",
       "    </tr>\n",
       "  </tbody>\n",
       "</table>\n",
       "</div>"
      ],
      "text/plain": [
       "                 count         mean         std     min      25%     50%  \\\n",
       "Id              3000.0  1500.500000  866.169729     1.0   750.75  1500.5   \n",
       "Area(total)     3000.0   325.117000   20.507742   290.0   308.00   325.0   \n",
       "Trooms          3000.0     7.021667    1.421221     5.0     6.00     7.0   \n",
       "Nbedrooms       3000.0     5.023000    1.634838     2.0     4.00     5.0   \n",
       "Nbwashrooms     3000.0     4.513667    1.715263     1.0     3.00     4.0   \n",
       "Twashrooms      3000.0     6.010667    1.786136     2.0     5.00     6.0   \n",
       "Roof(Area)      3000.0    48.980667   48.746641     0.0     0.00    71.0   \n",
       "Lawn(Area)      3000.0    95.609333   14.837388    70.0    83.00    96.0   \n",
       "Nfloors         3000.0     4.013333    1.621532     1.0     3.00     4.0   \n",
       "API             3000.0    70.190667   17.563460    40.0    55.00    70.0   \n",
       "ANB             3000.0     3.479000    1.694260     1.0     2.00     4.0   \n",
       "Expected price  3000.0  3782.938333  567.189995  2504.0  3354.00  3771.0   \n",
       "\n",
       "                    75%     max  \n",
       "Id              2250.25  3000.0  \n",
       "Area(total)      343.00   360.0  \n",
       "Trooms             8.00     9.0  \n",
       "Nbedrooms          6.00     8.0  \n",
       "Nbwashrooms        6.00     8.0  \n",
       "Twashrooms         7.00    10.0  \n",
       "Roof(Area)        96.00   120.0  \n",
       "Lawn(Area)       109.00   120.0  \n",
       "Nfloors            5.00     7.0  \n",
       "API               85.00   100.0  \n",
       "ANB                5.00     6.0  \n",
       "Expected price  4208.00  5216.0  "
      ]
     },
     "execution_count": 12,
     "metadata": {},
     "output_type": "execute_result"
    }
   ],
   "source": [
    "house.describe().T\n",
    "#We can see from the below each columns information and can get idea about the distribution of data"
   ]
  },
  {
   "cell_type": "markdown",
   "id": "1478d5bb",
   "metadata": {},
   "source": [
    "### Checking for null values"
   ]
  },
  {
   "cell_type": "code",
   "execution_count": 14,
   "id": "e7dfc5ee",
   "metadata": {},
   "outputs": [
    {
     "data": {
      "text/plain": [
       "Id                0\n",
       "Area(total)       0\n",
       "Trooms            0\n",
       "Nbedrooms         0\n",
       "Nbwashrooms       0\n",
       "Twashrooms        0\n",
       "roof              0\n",
       "Roof(Area)        0\n",
       "Lawn(Area)        0\n",
       "Nfloors           0\n",
       "API               0\n",
       "ANB               0\n",
       "Expected price    0\n",
       "Grade             0\n",
       "dtype: int64"
      ]
     },
     "execution_count": 14,
     "metadata": {},
     "output_type": "execute_result"
    }
   ],
   "source": [
    "house.isnull().sum()"
   ]
  },
  {
   "cell_type": "markdown",
   "id": "88dcaf1d",
   "metadata": {},
   "source": [
    "###### As  we can see there is no null values in our dataset if we got any null values we can impute numerical data by mean and categorical data by mode"
   ]
  },
  {
   "cell_type": "markdown",
   "id": "3271c773",
   "metadata": {},
   "source": [
    "### Visualization"
   ]
  },
  {
   "cell_type": "code",
   "execution_count": 5,
   "id": "b555a425",
   "metadata": {},
   "outputs": [
    {
     "data": {
      "text/plain": [
       "<AxesSubplot:xlabel='Nbedrooms'>"
      ]
     },
     "execution_count": 5,
     "metadata": {},
     "output_type": "execute_result"
    },
    {
     "data": {
      "image/png": "[encoded data removed]",
      "text/plain": [
       "<Figure size 432x288 with 1 Axes>"
      ]
     },
     "metadata": {},
     "output_type": "display_data"
    }
   ],
   "source": [
    "pd.crosstab(house['Nbedrooms'],house['Grade']).plot(kind='bar')"
   ]
  },
  {
   "cell_type": "markdown",
   "id": "f6750024",
   "metadata": {},
   "source": [
    "###### The best grade house have maximum number of bedrooms"
   ]
  },
  {
   "cell_type": "code",
   "execution_count": 18,
   "id": "f885919f",
   "metadata": {},
   "outputs": [
    {
     "data": {
      "text/plain": [
       "<AxesSubplot:xlabel='Trooms'>"
      ]
     },
     "execution_count": 18,
     "metadata": {},
     "output_type": "execute_result"
    },
    {
     "data": {
      "image/png": "[encoded data removed]",
      "text/plain": [
       "<Figure size 432x288 with 1 Axes>"
      ]
     },
     "metadata": {},
     "output_type": "display_data"
    }
   ],
   "source": [
    "pd.crosstab(house['Trooms'],house['Grade']).plot(kind='bar')"
   ]
  },
  {
   "cell_type": "markdown",
   "id": "ce233e64",
   "metadata": {},
   "source": [
    "###### The best grade house have maximum number of total rooms"
   ]
  },
  {
   "cell_type": "code",
   "execution_count": 11,
   "id": "380e263a",
   "metadata": {},
   "outputs": [
    {
     "data": {
      "image/png": "[encoded data removed]",
      "text/plain": [
       "<Figure size 1440x504 with 2 Axes>"
      ]
     },
     "metadata": {},
     "output_type": "display_data"
    }
   ],
   "source": [
    "# Distribution of expected price of the house \n",
    "fig, ax = plt.subplots(1, 2, figsize= (20, 7))               # Creating the space for the 2 images, first argument in subplots is rows and second is columns and the figure size\n",
    "sns.histplot(x = house[\"Expected price\"], ax =ax[1], color = \"m\") # ax[1] means image will plot at the second space\n",
    "sns.boxplot(x = house[\"Expected price\"], ax = ax[0], color = \"g\") # ax[0] means image will plot at the second space\n",
    "plt.show()"
   ]
  },
  {
   "cell_type": "markdown",
   "id": "3f2d4db0",
   "metadata": {},
   "source": [
    "###### Price distribution for our data set is approximatly linear in nature"
   ]
  },
  {
   "cell_type": "code",
   "execution_count": 25,
   "id": "16e18fa6",
   "metadata": {},
   "outputs": [
    {
     "data": {
      "image/png": "[encoded data removed]",
      "text/plain": [
       "<Figure size 1440x504 with 2 Axes>"
      ]
     },
     "metadata": {},
     "output_type": "display_data"
    }
   ],
   "source": [
    "# Distribution of Roof(Area) of the house \n",
    "fig, ax = plt.subplots(1, 2, figsize= (20, 7))               # Creating the space for the 2 images, first argument in subplots is rows and second is columns and the figure size\n",
    "sns.histplot(x = house[\"Nbwashrooms\"], ax =ax[1], color = \"m\") # ax[1] means image will plot at the second space\n",
    "sns.boxplot(x = house[\"Nbwashrooms\"], ax = ax[0], color = \"g\") # ax[0] means image will plot at the second space\n",
    "plt.show()"
   ]
  },
  {
   "cell_type": "markdown",
   "id": "c6f0b32b",
   "metadata": {},
   "source": [
    "###### 75% of the data having 3-8 Nbwashrooms"
   ]
  },
  {
   "cell_type": "code",
   "execution_count": 34,
   "id": "9267de03",
   "metadata": {},
   "outputs": [
    {
     "data": {
      "image/png": "[encoded data removed]",
      "text/plain": [
       "<Figure size 1440x576 with 2 Axes>"
      ]
     },
     "metadata": {},
     "output_type": "display_data"
    }
   ],
   "source": [
    "fig, ax = plt.subplots(1, 2, figsize = (20,8 ))\n",
    "sns.histplot(x = new_df_scaled['Expected price'], hue = new_df_scaled['Grade'], ax = ax[0])\n",
    "sns.boxplot(y = new_df_scaled['Expected price'], x = new_df_scaled['Grade'], ax = ax[1])\n",
    "plt.show()"
   ]
  },
  {
   "cell_type": "markdown",
   "id": "5b2997a5",
   "metadata": {},
   "source": [
    "##### A grade has highest expected price and 50% of grade A house varies from approximatley 4200- 4800"
   ]
  },
  {
   "cell_type": "code",
   "execution_count": 36,
   "id": "8370ac09",
   "metadata": {},
   "outputs": [
    {
     "data": {
      "image/png": "[encoded data removed]",
      "text/plain": [
       "<Figure size 1440x576 with 2 Axes>"
      ]
     },
     "metadata": {},
     "output_type": "display_data"
    }
   ],
   "source": [
    "fig, ax = plt.subplots(1, 2, figsize = (20,8 ))\n",
    "sns.histplot(x = new_df_scaled['Trooms'], hue = new_df_scaled['Grade'], ax = ax[0])\n",
    "sns.boxplot(y = new_df_scaled['Trooms'], x = new_df_scaled['Grade'], ax = ax[1])\n",
    "plt.show()"
   ]
  },
  {
   "cell_type": "markdown",
   "id": "9ddb52dc",
   "metadata": {},
   "source": [
    "###### Almost except few house have less than 9 total rooms in top Grade house"
   ]
  },
  {
   "cell_type": "code",
   "execution_count": 38,
   "id": "e1f6fdce",
   "metadata": {},
   "outputs": [
    {
     "data": {
      "image/png": "[encoded data removed]",
      "text/plain": [
       "<Figure size 1440x576 with 2 Axes>"
      ]
     },
     "metadata": {},
     "output_type": "display_data"
    }
   ],
   "source": [
    "fig, ax = plt.subplots(1, 2, figsize = (20,8 ))\n",
    "sns.histplot(x = new_df_scaled['Roof(Area)'], hue = new_df_scaled['Grade'], ax = ax[0])\n",
    "sns.boxplot(y = new_df_scaled['Roof(Area)'], x = new_df_scaled['Grade'], ax = ax[1])\n",
    "plt.show()"
   ]
  },
  {
   "cell_type": "markdown",
   "id": "bb0e306b",
   "metadata": {},
   "source": [
    "###### 75% of total grade a house have roofs and worst grade house have no roofs or few houses have roofs with them"
   ]
  },
  {
   "cell_type": "code",
   "execution_count": 73,
   "id": "6c20ffcd",
   "metadata": {},
   "outputs": [
    {
     "data": {
      "image/png": "[encoded data removed]",
      "text/plain": [
       "<Figure size 720x504 with 1 Axes>"
      ]
     },
     "metadata": {},
     "output_type": "display_data"
    }
   ],
   "source": [
    "fig,ax= plt.subplots(figsize=(10,7))\n",
    "sns.barplot(x=house['Trooms'],y=house['Expected price'],hue=house['Grade'],ci=None,ax=ax)\n",
    "count=len(house['Trooms'])\n",
    "plt.show()"
   ]
  },
  {
   "cell_type": "markdown",
   "id": "31d2ebc3",
   "metadata": {},
   "source": [
    "###### Grade, Expected price and number of total rooms are directly proportional to each other"
   ]
  },
  {
   "cell_type": "code",
   "execution_count": 60,
   "id": "9fd4802e",
   "metadata": {},
   "outputs": [
    {
     "name": "stdout",
     "output_type": "stream",
     "text": [
      "        Expected price\n",
      "Trooms                \n",
      "9          4424.204368\n",
      "8          4125.853097\n",
      "7          3754.994881\n",
      "6          3451.812303\n",
      "5          3123.548780\n",
      "        Expected price\n",
      "Trooms                \n",
      "9          4424.204368\n",
      "8          4125.853097\n",
      "7          3754.994881\n",
      "6          3451.812303\n",
      "5          3123.548780\n",
      "        Expected price\n",
      "Trooms                \n",
      "9          4424.204368\n",
      "8          4125.853097\n",
      "7          3754.994881\n",
      "6          3451.812303\n",
      "5          3123.548780\n"
     ]
    },
    {
     "data": {
      "text/plain": [
       "<AxesSubplot:xlabel='Expected price', ylabel='Trooms'>"
      ]
     },
     "execution_count": 60,
     "metadata": {},
     "output_type": "execute_result"
    },
    {
     "data": {
      "image/png": "[encoded data removed]",
      "text/plain": [
       "<Figure size 1440x576 with 3 Axes>"
      ]
     },
     "metadata": {},
     "output_type": "display_data"
    }
   ],
   "source": [
    "### filter\n",
    "df3=house.loc[(house.Trooms==9)&(house.Grade==\"A\")&(house[\"Expected price\"]>4300)&(house[\"API\"]>71.0)]\n",
    "df2=house.loc[(house.Trooms==9)&(house.Grade==\"B\")&(house['Expected price']>4300)&(house[\"API\"]>71.0)]\n",
    "df1=house.loc[(house.Trooms==9)&(house.Grade==\"C\")&(house['Expected price']>4300)&(house[\"API\"]>71.0)]\n",
    "\n",
    "# groupby\n",
    "print(house[[\"Trooms\",\"Expected price\"]].groupby([\"Trooms\"]).mean().sort_values(by=\"Expected price\", ascending= False))\n",
    "print(house[[\"Trooms\",\"Expected price\"]].groupby([\"Trooms\"]).mean().sort_values(by=\"Expected price\", ascending= False))\n",
    "print(house[[\"Trooms\",\"Expected price\"]].groupby([\"Trooms\"]).mean().sort_values(by=\"Expected price\", ascending= False))\n",
    "\n",
    "#plot\n",
    "fig,ax=plt.subplots(1,3,figsize=(20,8))\n",
    "sns.boxplot(y=df1[\"Trooms\"],x=df1[\"Expected price\"],ax=ax[0])\n",
    "sns.boxplot(y=df2[\"Trooms\"],x=df2[\"Expected price\"],ax=ax[1])\n",
    "sns.boxplot(y=df3[\"Trooms\"],x=df3[\"Expected price\"],ax=ax[2])"
   ]
  },
  {
   "cell_type": "markdown",
   "id": "6e045312",
   "metadata": {},
   "source": [
    "###### checking for correlation "
   ]
  },
  {
   "cell_type": "code",
   "execution_count": 17,
   "id": "4fc449f0",
   "metadata": {},
   "outputs": [
    {
     "data": {
      "text/html": [
       "<div>\n",
       "<style scoped>\n",
       "    .dataframe tbody tr th:only-of-type {\n",
       "        vertical-align: middle;\n",
       "    }\n",
       "\n",
       "    .dataframe tbody tr th {\n",
       "        vertical-align: top;\n",
       "    }\n",
       "\n",
       "    .dataframe thead th {\n",
       "        text-align: right;\n",
       "    }\n",
       "</style>\n",
       "<table border=\"1\" class=\"dataframe\">\n",
       "  <thead>\n",
       "    <tr style=\"text-align: right;\">\n",
       "      <th></th>\n",
       "      <th>Id</th>\n",
       "      <th>Area(total)</th>\n",
       "      <th>Trooms</th>\n",
       "      <th>Nbedrooms</th>\n",
       "      <th>Nbwashrooms</th>\n",
       "      <th>Twashrooms</th>\n",
       "      <th>Roof(Area)</th>\n",
       "      <th>Lawn(Area)</th>\n",
       "      <th>Nfloors</th>\n",
       "      <th>API</th>\n",
       "      <th>ANB</th>\n",
       "      <th>Expected price</th>\n",
       "    </tr>\n",
       "  </thead>\n",
       "  <tbody>\n",
       "    <tr>\n",
       "      <th>Id</th>\n",
       "      <td>1.000000</td>\n",
       "      <td>0.003186</td>\n",
       "      <td>0.003165</td>\n",
       "      <td>0.004814</td>\n",
       "      <td>0.003496</td>\n",
       "      <td>0.001092</td>\n",
       "      <td>0.013046</td>\n",
       "      <td>0.006309</td>\n",
       "      <td>-0.010939</td>\n",
       "      <td>-0.003739</td>\n",
       "      <td>-0.013219</td>\n",
       "      <td>0.009216</td>\n",
       "    </tr>\n",
       "    <tr>\n",
       "      <th>Area(total)</th>\n",
       "      <td>0.003186</td>\n",
       "      <td>1.000000</td>\n",
       "      <td>0.019041</td>\n",
       "      <td>0.031328</td>\n",
       "      <td>0.031819</td>\n",
       "      <td>0.038509</td>\n",
       "      <td>0.017029</td>\n",
       "      <td>-0.002118</td>\n",
       "      <td>0.016819</td>\n",
       "      <td>-0.000182</td>\n",
       "      <td>-0.010846</td>\n",
       "      <td>0.274507</td>\n",
       "    </tr>\n",
       "    <tr>\n",
       "      <th>Trooms</th>\n",
       "      <td>0.003165</td>\n",
       "      <td>0.019041</td>\n",
       "      <td>1.000000</td>\n",
       "      <td>0.865878</td>\n",
       "      <td>0.827072</td>\n",
       "      <td>0.794870</td>\n",
       "      <td>0.026550</td>\n",
       "      <td>0.009557</td>\n",
       "      <td>0.862367</td>\n",
       "      <td>0.007502</td>\n",
       "      <td>0.007321</td>\n",
       "      <td>0.820170</td>\n",
       "    </tr>\n",
       "    <tr>\n",
       "      <th>Nbedrooms</th>\n",
       "      <td>0.004814</td>\n",
       "      <td>0.031328</td>\n",
       "      <td>0.865878</td>\n",
       "      <td>1.000000</td>\n",
       "      <td>0.956578</td>\n",
       "      <td>0.919158</td>\n",
       "      <td>0.025073</td>\n",
       "      <td>0.000054</td>\n",
       "      <td>0.742132</td>\n",
       "      <td>0.002820</td>\n",
       "      <td>0.015403</td>\n",
       "      <td>0.715687</td>\n",
       "    </tr>\n",
       "    <tr>\n",
       "      <th>Nbwashrooms</th>\n",
       "      <td>0.003496</td>\n",
       "      <td>0.031819</td>\n",
       "      <td>0.827072</td>\n",
       "      <td>0.956578</td>\n",
       "      <td>1.000000</td>\n",
       "      <td>0.960007</td>\n",
       "      <td>0.028832</td>\n",
       "      <td>0.006617</td>\n",
       "      <td>0.711936</td>\n",
       "      <td>0.011413</td>\n",
       "      <td>0.008475</td>\n",
       "      <td>0.683659</td>\n",
       "    </tr>\n",
       "    <tr>\n",
       "      <th>Twashrooms</th>\n",
       "      <td>0.001092</td>\n",
       "      <td>0.038509</td>\n",
       "      <td>0.794870</td>\n",
       "      <td>0.919158</td>\n",
       "      <td>0.960007</td>\n",
       "      <td>1.000000</td>\n",
       "      <td>0.028763</td>\n",
       "      <td>0.008386</td>\n",
       "      <td>0.684966</td>\n",
       "      <td>0.012361</td>\n",
       "      <td>0.016492</td>\n",
       "      <td>0.654627</td>\n",
       "    </tr>\n",
       "    <tr>\n",
       "      <th>Roof(Area)</th>\n",
       "      <td>0.013046</td>\n",
       "      <td>0.017029</td>\n",
       "      <td>0.026550</td>\n",
       "      <td>0.025073</td>\n",
       "      <td>0.028832</td>\n",
       "      <td>0.028763</td>\n",
       "      <td>1.000000</td>\n",
       "      <td>-0.006831</td>\n",
       "      <td>0.013840</td>\n",
       "      <td>-0.006331</td>\n",
       "      <td>-0.015529</td>\n",
       "      <td>0.009346</td>\n",
       "    </tr>\n",
       "    <tr>\n",
       "      <th>Lawn(Area)</th>\n",
       "      <td>0.006309</td>\n",
       "      <td>-0.002118</td>\n",
       "      <td>0.009557</td>\n",
       "      <td>0.000054</td>\n",
       "      <td>0.006617</td>\n",
       "      <td>0.008386</td>\n",
       "      <td>-0.006831</td>\n",
       "      <td>1.000000</td>\n",
       "      <td>0.013771</td>\n",
       "      <td>0.011477</td>\n",
       "      <td>0.025751</td>\n",
       "      <td>0.011561</td>\n",
       "    </tr>\n",
       "    <tr>\n",
       "      <th>Nfloors</th>\n",
       "      <td>-0.010939</td>\n",
       "      <td>0.016819</td>\n",
       "      <td>0.862367</td>\n",
       "      <td>0.742132</td>\n",
       "      <td>0.711936</td>\n",
       "      <td>0.684966</td>\n",
       "      <td>0.013840</td>\n",
       "      <td>0.013771</td>\n",
       "      <td>1.000000</td>\n",
       "      <td>-0.002255</td>\n",
       "      <td>0.020614</td>\n",
       "      <td>0.714598</td>\n",
       "    </tr>\n",
       "    <tr>\n",
       "      <th>API</th>\n",
       "      <td>-0.003739</td>\n",
       "      <td>-0.000182</td>\n",
       "      <td>0.007502</td>\n",
       "      <td>0.002820</td>\n",
       "      <td>0.011413</td>\n",
       "      <td>0.012361</td>\n",
       "      <td>-0.006331</td>\n",
       "      <td>0.011477</td>\n",
       "      <td>-0.002255</td>\n",
       "      <td>1.000000</td>\n",
       "      <td>-0.025694</td>\n",
       "      <td>0.016575</td>\n",
       "    </tr>\n",
       "    <tr>\n",
       "      <th>ANB</th>\n",
       "      <td>-0.013219</td>\n",
       "      <td>-0.010846</td>\n",
       "      <td>0.007321</td>\n",
       "      <td>0.015403</td>\n",
       "      <td>0.008475</td>\n",
       "      <td>0.016492</td>\n",
       "      <td>-0.015529</td>\n",
       "      <td>0.025751</td>\n",
       "      <td>0.020614</td>\n",
       "      <td>-0.025694</td>\n",
       "      <td>1.000000</td>\n",
       "      <td>0.015583</td>\n",
       "    </tr>\n",
       "    <tr>\n",
       "      <th>Expected price</th>\n",
       "      <td>0.009216</td>\n",
       "      <td>0.274507</td>\n",
       "      <td>0.820170</td>\n",
       "      <td>0.715687</td>\n",
       "      <td>0.683659</td>\n",
       "      <td>0.654627</td>\n",
       "      <td>0.009346</td>\n",
       "      <td>0.011561</td>\n",
       "      <td>0.714598</td>\n",
       "      <td>0.016575</td>\n",
       "      <td>0.015583</td>\n",
       "      <td>1.000000</td>\n",
       "    </tr>\n",
       "  </tbody>\n",
       "</table>\n",
       "</div>"
      ],
      "text/plain": [
       "                      Id  Area(total)    Trooms  Nbedrooms  Nbwashrooms  \\\n",
       "Id              1.000000     0.003186  0.003165   0.004814     0.003496   \n",
       "Area(total)     0.003186     1.000000  0.019041   0.031328     0.031819   \n",
       "Trooms          0.003165     0.019041  1.000000   0.865878     0.827072   \n",
       "Nbedrooms       0.004814     0.031328  0.865878   1.000000     0.956578   \n",
       "Nbwashrooms     0.003496     0.031819  0.827072   0.956578     1.000000   \n",
       "Twashrooms      0.001092     0.038509  0.794870   0.919158     0.960007   \n",
       "Roof(Area)      0.013046     0.017029  0.026550   0.025073     0.028832   \n",
       "Lawn(Area)      0.006309    -0.002118  0.009557   0.000054     0.006617   \n",
       "Nfloors        -0.010939     0.016819  0.862367   0.742132     0.711936   \n",
       "API            -0.003739    -0.000182  0.007502   0.002820     0.011413   \n",
       "ANB            -0.013219    -0.010846  0.007321   0.015403     0.008475   \n",
       "Expected price  0.009216     0.274507  0.820170   0.715687     0.683659   \n",
       "\n",
       "                Twashrooms  Roof(Area)  Lawn(Area)   Nfloors       API  \\\n",
       "Id                0.001092    0.013046    0.006309 -0.010939 -0.003739   \n",
       "Area(total)       0.038509    0.017029   -0.002118  0.016819 -0.000182   \n",
       "Trooms            0.794870    0.026550    0.009557  0.862367  0.007502   \n",
       "Nbedrooms         0.919158    0.025073    0.000054  0.742132  0.002820   \n",
       "Nbwashrooms       0.960007    0.028832    0.006617  0.711936  0.011413   \n",
       "Twashrooms        1.000000    0.028763    0.008386  0.684966  0.012361   \n",
       "Roof(Area)        0.028763    1.000000   -0.006831  0.013840 -0.006331   \n",
       "Lawn(Area)        0.008386   -0.006831    1.000000  0.013771  0.011477   \n",
       "Nfloors           0.684966    0.013840    0.013771  1.000000 -0.002255   \n",
       "API               0.012361   -0.006331    0.011477 -0.002255  1.000000   \n",
       "ANB               0.016492   -0.015529    0.025751  0.020614 -0.025694   \n",
       "Expected price    0.654627    0.009346    0.011561  0.714598  0.016575   \n",
       "\n",
       "                     ANB  Expected price  \n",
       "Id             -0.013219        0.009216  \n",
       "Area(total)    -0.010846        0.274507  \n",
       "Trooms          0.007321        0.820170  \n",
       "Nbedrooms       0.015403        0.715687  \n",
       "Nbwashrooms     0.008475        0.683659  \n",
       "Twashrooms      0.016492        0.654627  \n",
       "Roof(Area)     -0.015529        0.009346  \n",
       "Lawn(Area)      0.025751        0.011561  \n",
       "Nfloors         0.020614        0.714598  \n",
       "API            -0.025694        0.016575  \n",
       "ANB             1.000000        0.015583  \n",
       "Expected price  0.015583        1.000000  "
      ]
     },
     "execution_count": 17,
     "metadata": {},
     "output_type": "execute_result"
    }
   ],
   "source": [
    "house.corr()"
   ]
  },
  {
   "cell_type": "markdown",
   "id": "654c950a",
   "metadata": {},
   "source": [
    "### Feature Engineering"
   ]
  },
  {
   "cell_type": "code",
   "execution_count": 20,
   "id": "b9fdca90",
   "metadata": {},
   "outputs": [
    {
     "data": {
      "text/plain": [
       "array([0, 1])"
      ]
     },
     "execution_count": 20,
     "metadata": {},
     "output_type": "execute_result"
    }
   ],
   "source": [
    "# Using Label Encoder technique to convert categorical column into numerical type\n",
    "\n",
    "#label_encoder object knows how to understand word labels.\n",
    "label_encoder = preprocessing.LabelEncoder()\n",
    "# Encode labels in column 'species'.\n",
    "house['roof_encode']= label_encoder.fit_transform(house['roof'])\n",
    " \n",
    "house['roof_encode'].unique()\n",
    "#print(loan_df.head())"
   ]
  },
  {
   "cell_type": "code",
   "execution_count": 21,
   "id": "82962019",
   "metadata": {},
   "outputs": [
    {
     "data": {
      "text/plain": [
       "array([3, 2, 1, 0, 4])"
      ]
     },
     "execution_count": 21,
     "metadata": {},
     "output_type": "execute_result"
    }
   ],
   "source": [
    "# Using Label Encoder technique to convert categorical column into numerical type\n",
    "\n",
    "#label_encoder object knows how to understand word labels.\n",
    "label_encoder = preprocessing.LabelEncoder()\n",
    "# Encode labels in column 'species'.\n",
    "house['Grade_encode']= label_encoder.fit_transform(house['Grade'])\n",
    " \n",
    "house['Grade_encode'].unique()\n",
    "#print(loan_df.head())"
   ]
  },
  {
   "cell_type": "code",
   "execution_count": 23,
   "id": "5ceb8ddf",
   "metadata": {},
   "outputs": [
    {
     "data": {
      "text/plain": [
       "Index(['Id', 'Area(total)', 'Trooms', 'Nbedrooms', 'Nbwashrooms', 'Twashrooms',\n",
       "       'roof', 'Roof(Area)', 'Lawn(Area)', 'Nfloors', 'API', 'ANB',\n",
       "       'Expected price', 'Grade', 'roof_encode', 'Grade_encode'],\n",
       "      dtype='object')"
      ]
     },
     "execution_count": 23,
     "metadata": {},
     "output_type": "execute_result"
    }
   ],
   "source": [
    "house.columns"
   ]
  },
  {
   "cell_type": "code",
   "execution_count": 28,
   "id": "ff818c25",
   "metadata": {},
   "outputs": [
    {
     "data": {
      "image/png": "[encoded data removed]",
      "text/plain": [
       "<Figure size 1008x576 with 2 Axes>"
      ]
     },
     "metadata": {},
     "output_type": "display_data"
    }
   ],
   "source": [
    "new_df_scaled=house[[ 'Area(total)', 'Trooms', 'Nbedrooms', 'Nbwashrooms', 'Twashrooms',\n",
    "       'roof', 'Roof(Area)', 'Lawn(Area)', 'Nfloors', 'API', 'ANB',\n",
    "       'Expected price', 'Grade', 'roof_encode', 'Grade_encode']]\n",
    "plt.figure(figsize=(14,8))\n",
    "hm = sns.heatmap(house.corr(), annot = True)\n",
    "hm.set(xlabel='\\nleft', ylabel='left', title = \"Correlation matrix of grades\\n\")\n",
    "plt.show()"
   ]
  },
  {
   "cell_type": "markdown",
   "id": "b59ad069",
   "metadata": {},
   "source": [
    "#### Trooms, Nbedrooms, Nbwashrooms,Twashrooms,Nfloors,Expected price are highly correlated with the grades of the house"
   ]
  },
  {
   "cell_type": "markdown",
   "id": "c5342a7c",
   "metadata": {},
   "source": [
    "### Feature Scaling"
   ]
  },
  {
   "cell_type": "code",
   "execution_count": 86,
   "id": "ca01b39f",
   "metadata": {},
   "outputs": [],
   "source": [
    "# Defining method to perform data scaling operation based on the type of scaling\n",
    "def feature_scale(scale):\n",
    "  numerics = ['int16', 'int32', 'int64', 'float16', 'float32', 'float64']\n",
    "  new_house_df_c = new_df_scaled.select_dtypes(include=numerics)\n",
    "  if scale == 'minmax':\n",
    "    scaler = MinMaxScaler()\n",
    "  else:\n",
    "    scaler = StandardScaler()\n",
    "  df_scaled = pd.DataFrame(scaler.fit_transform(new_house_df_c.to_numpy()),columns=new_house_df_c.columns)\n",
    "  return df_scaled"
   ]
  },
  {
   "cell_type": "code",
   "execution_count": 87,
   "id": "f56bcd72",
   "metadata": {},
   "outputs": [
    {
     "data": {
      "text/html": [
       "<div>\n",
       "<style scoped>\n",
       "    .dataframe tbody tr th:only-of-type {\n",
       "        vertical-align: middle;\n",
       "    }\n",
       "\n",
       "    .dataframe tbody tr th {\n",
       "        vertical-align: top;\n",
       "    }\n",
       "\n",
       "    .dataframe thead th {\n",
       "        text-align: right;\n",
       "    }\n",
       "</style>\n",
       "<table border=\"1\" class=\"dataframe\">\n",
       "  <thead>\n",
       "    <tr style=\"text-align: right;\">\n",
       "      <th></th>\n",
       "      <th>Trooms</th>\n",
       "      <th>Nbedrooms</th>\n",
       "      <th>Nbwashrooms</th>\n",
       "      <th>Twashrooms</th>\n",
       "      <th>Nfloors</th>\n",
       "      <th>Expected price</th>\n",
       "    </tr>\n",
       "  </thead>\n",
       "  <tbody>\n",
       "    <tr>\n",
       "      <th>0</th>\n",
       "      <td>0.25</td>\n",
       "      <td>0.500000</td>\n",
       "      <td>0.428571</td>\n",
       "      <td>0.500</td>\n",
       "      <td>0.166667</td>\n",
       "      <td>0.360251</td>\n",
       "    </tr>\n",
       "    <tr>\n",
       "      <th>1</th>\n",
       "      <td>0.00</td>\n",
       "      <td>0.333333</td>\n",
       "      <td>0.285714</td>\n",
       "      <td>0.250</td>\n",
       "      <td>0.333333</td>\n",
       "      <td>0.370944</td>\n",
       "    </tr>\n",
       "    <tr>\n",
       "      <th>2</th>\n",
       "      <td>0.50</td>\n",
       "      <td>0.500000</td>\n",
       "      <td>0.428571</td>\n",
       "      <td>0.375</td>\n",
       "      <td>0.666667</td>\n",
       "      <td>0.458702</td>\n",
       "    </tr>\n",
       "    <tr>\n",
       "      <th>3</th>\n",
       "      <td>0.25</td>\n",
       "      <td>0.333333</td>\n",
       "      <td>0.285714</td>\n",
       "      <td>0.375</td>\n",
       "      <td>0.166667</td>\n",
       "      <td>0.232301</td>\n",
       "    </tr>\n",
       "    <tr>\n",
       "      <th>4</th>\n",
       "      <td>0.50</td>\n",
       "      <td>0.333333</td>\n",
       "      <td>0.428571</td>\n",
       "      <td>0.375</td>\n",
       "      <td>0.333333</td>\n",
       "      <td>0.493732</td>\n",
       "    </tr>\n",
       "    <tr>\n",
       "      <th>...</th>\n",
       "      <td>...</td>\n",
       "      <td>...</td>\n",
       "      <td>...</td>\n",
       "      <td>...</td>\n",
       "      <td>...</td>\n",
       "      <td>...</td>\n",
       "    </tr>\n",
       "    <tr>\n",
       "      <th>2995</th>\n",
       "      <td>1.00</td>\n",
       "      <td>0.666667</td>\n",
       "      <td>0.571429</td>\n",
       "      <td>0.625</td>\n",
       "      <td>0.666667</td>\n",
       "      <td>0.642330</td>\n",
       "    </tr>\n",
       "    <tr>\n",
       "      <th>2996</th>\n",
       "      <td>1.00</td>\n",
       "      <td>1.000000</td>\n",
       "      <td>0.857143</td>\n",
       "      <td>0.750</td>\n",
       "      <td>1.000000</td>\n",
       "      <td>0.460546</td>\n",
       "    </tr>\n",
       "    <tr>\n",
       "      <th>2997</th>\n",
       "      <td>0.50</td>\n",
       "      <td>0.333333</td>\n",
       "      <td>0.285714</td>\n",
       "      <td>0.375</td>\n",
       "      <td>0.666667</td>\n",
       "      <td>0.406711</td>\n",
       "    </tr>\n",
       "    <tr>\n",
       "      <th>2998</th>\n",
       "      <td>1.00</td>\n",
       "      <td>0.833333</td>\n",
       "      <td>0.857143</td>\n",
       "      <td>0.750</td>\n",
       "      <td>1.000000</td>\n",
       "      <td>0.624631</td>\n",
       "    </tr>\n",
       "    <tr>\n",
       "      <th>2999</th>\n",
       "      <td>0.50</td>\n",
       "      <td>0.666667</td>\n",
       "      <td>0.714286</td>\n",
       "      <td>0.750</td>\n",
       "      <td>0.666667</td>\n",
       "      <td>0.590339</td>\n",
       "    </tr>\n",
       "  </tbody>\n",
       "</table>\n",
       "<p>3000 rows × 6 columns</p>\n",
       "</div>"
      ],
      "text/plain": [
       "      Trooms  Nbedrooms  Nbwashrooms  Twashrooms   Nfloors  Expected price\n",
       "0       0.25   0.500000     0.428571       0.500  0.166667        0.360251\n",
       "1       0.00   0.333333     0.285714       0.250  0.333333        0.370944\n",
       "2       0.50   0.500000     0.428571       0.375  0.666667        0.458702\n",
       "3       0.25   0.333333     0.285714       0.375  0.166667        0.232301\n",
       "4       0.50   0.333333     0.428571       0.375  0.333333        0.493732\n",
       "...      ...        ...          ...         ...       ...             ...\n",
       "2995    1.00   0.666667     0.571429       0.625  0.666667        0.642330\n",
       "2996    1.00   1.000000     0.857143       0.750  1.000000        0.460546\n",
       "2997    0.50   0.333333     0.285714       0.375  0.666667        0.406711\n",
       "2998    1.00   0.833333     0.857143       0.750  1.000000        0.624631\n",
       "2999    0.50   0.666667     0.714286       0.750  0.666667        0.590339\n",
       "\n",
       "[3000 rows x 6 columns]"
      ]
     },
     "execution_count": 87,
     "metadata": {},
     "output_type": "execute_result"
    }
   ],
   "source": [
    "# scaling the data using MinMax Scaling process\n",
    "scale = 'minmax' #standard\n",
    "house_df_scaled=feature_scale(scale)\n",
    "house_df_scaled"
   ]
  },
  {
   "cell_type": "code",
   "execution_count": 88,
   "id": "4f199f12",
   "metadata": {},
   "outputs": [
    {
     "data": {
      "text/html": [
       "<style type=\"text/css\">\n",
       "#T_20d0e_row0_col0, #T_20d0e_row1_col1, #T_20d0e_row2_col2, #T_20d0e_row3_col3, #T_20d0e_row4_col4, #T_20d0e_row5_col5 {\n",
       "  background-color: #b40426;\n",
       "  color: #f1f1f1;\n",
       "}\n",
       "#T_20d0e_row0_col1 {\n",
       "  background-color: #e4d9d2;\n",
       "  color: #000000;\n",
       "}\n",
       "#T_20d0e_row0_col2 {\n",
       "  background-color: #d1dae9;\n",
       "  color: #000000;\n",
       "}\n",
       "#T_20d0e_row0_col3 {\n",
       "  background-color: #c1d4f4;\n",
       "  color: #000000;\n",
       "}\n",
       "#T_20d0e_row0_col4 {\n",
       "  background-color: #ecd3c5;\n",
       "  color: #000000;\n",
       "}\n",
       "#T_20d0e_row0_col5 {\n",
       "  background-color: #d7dce3;\n",
       "  color: #000000;\n",
       "}\n",
       "#T_20d0e_row1_col0 {\n",
       "  background-color: #aec9fc;\n",
       "  color: #000000;\n",
       "}\n",
       "#T_20d0e_row1_col2 {\n",
       "  background-color: #e16751;\n",
       "  color: #f1f1f1;\n",
       "}\n",
       "#T_20d0e_row1_col3 {\n",
       "  background-color: #f29274;\n",
       "  color: #f1f1f1;\n",
       "}\n",
       "#T_20d0e_row1_col4 {\n",
       "  background-color: #7597f6;\n",
       "  color: #f1f1f1;\n",
       "}\n",
       "#T_20d0e_row1_col5 {\n",
       "  background-color: #7396f5;\n",
       "  color: #f1f1f1;\n",
       "}\n",
       "#T_20d0e_row2_col0 {\n",
       "  background-color: #6c8ff1;\n",
       "  color: #f1f1f1;\n",
       "}\n",
       "#T_20d0e_row2_col1 {\n",
       "  background-color: #e46e56;\n",
       "  color: #f1f1f1;\n",
       "}\n",
       "#T_20d0e_row2_col3 {\n",
       "  background-color: #da5a49;\n",
       "  color: #f1f1f1;\n",
       "}\n",
       "#T_20d0e_row2_col4, #T_20d0e_row2_col5 {\n",
       "  background-color: #5470de;\n",
       "  color: #f1f1f1;\n",
       "}\n",
       "#T_20d0e_row3_col0, #T_20d0e_row3_col4, #T_20d0e_row3_col5, #T_20d0e_row5_col1, #T_20d0e_row5_col2, #T_20d0e_row5_col3 {\n",
       "  background-color: #3b4cc0;\n",
       "  color: #f1f1f1;\n",
       "}\n",
       "#T_20d0e_row3_col1 {\n",
       "  background-color: #f7a688;\n",
       "  color: #000000;\n",
       "}\n",
       "#T_20d0e_row3_col2 {\n",
       "  background-color: #de614d;\n",
       "  color: #f1f1f1;\n",
       "}\n",
       "#T_20d0e_row4_col0 {\n",
       "  background-color: #a9c6fd;\n",
       "  color: #000000;\n",
       "}\n",
       "#T_20d0e_row4_col1 {\n",
       "  background-color: #5673e0;\n",
       "  color: #f1f1f1;\n",
       "}\n",
       "#T_20d0e_row4_col2, #T_20d0e_row4_col3 {\n",
       "  background-color: #5572df;\n",
       "  color: #f1f1f1;\n",
       "}\n",
       "#T_20d0e_row4_col5 {\n",
       "  background-color: #7295f4;\n",
       "  color: #f1f1f1;\n",
       "}\n",
       "#T_20d0e_row5_col0 {\n",
       "  background-color: #6180e9;\n",
       "  color: #f1f1f1;\n",
       "}\n",
       "#T_20d0e_row5_col4 {\n",
       "  background-color: #5875e1;\n",
       "  color: #f1f1f1;\n",
       "}\n",
       "</style>\n",
       "<table id=\"T_20d0e\">\n",
       "  <thead>\n",
       "    <tr>\n",
       "      <th class=\"blank level0\" >&nbsp;</th>\n",
       "      <th id=\"T_20d0e_level0_col0\" class=\"col_heading level0 col0\" >Trooms</th>\n",
       "      <th id=\"T_20d0e_level0_col1\" class=\"col_heading level0 col1\" >Nbedrooms</th>\n",
       "      <th id=\"T_20d0e_level0_col2\" class=\"col_heading level0 col2\" >Nbwashrooms</th>\n",
       "      <th id=\"T_20d0e_level0_col3\" class=\"col_heading level0 col3\" >Twashrooms</th>\n",
       "      <th id=\"T_20d0e_level0_col4\" class=\"col_heading level0 col4\" >Nfloors</th>\n",
       "      <th id=\"T_20d0e_level0_col5\" class=\"col_heading level0 col5\" >Expected price</th>\n",
       "    </tr>\n",
       "  </thead>\n",
       "  <tbody>\n",
       "    <tr>\n",
       "      <th id=\"T_20d0e_level0_row0\" class=\"row_heading level0 row0\" >Trooms</th>\n",
       "      <td id=\"T_20d0e_row0_col0\" class=\"data row0 col0\" >1.000000</td>\n",
       "      <td id=\"T_20d0e_row0_col1\" class=\"data row0 col1\" >0.865878</td>\n",
       "      <td id=\"T_20d0e_row0_col2\" class=\"data row0 col2\" >0.827072</td>\n",
       "      <td id=\"T_20d0e_row0_col3\" class=\"data row0 col3\" >0.794870</td>\n",
       "      <td id=\"T_20d0e_row0_col4\" class=\"data row0 col4\" >0.862367</td>\n",
       "      <td id=\"T_20d0e_row0_col5\" class=\"data row0 col5\" >0.820170</td>\n",
       "    </tr>\n",
       "    <tr>\n",
       "      <th id=\"T_20d0e_level0_row1\" class=\"row_heading level0 row1\" >Nbedrooms</th>\n",
       "      <td id=\"T_20d0e_row1_col0\" class=\"data row1 col0\" >0.865878</td>\n",
       "      <td id=\"T_20d0e_row1_col1\" class=\"data row1 col1\" >1.000000</td>\n",
       "      <td id=\"T_20d0e_row1_col2\" class=\"data row1 col2\" >0.956578</td>\n",
       "      <td id=\"T_20d0e_row1_col3\" class=\"data row1 col3\" >0.919158</td>\n",
       "      <td id=\"T_20d0e_row1_col4\" class=\"data row1 col4\" >0.742132</td>\n",
       "      <td id=\"T_20d0e_row1_col5\" class=\"data row1 col5\" >0.715687</td>\n",
       "    </tr>\n",
       "    <tr>\n",
       "      <th id=\"T_20d0e_level0_row2\" class=\"row_heading level0 row2\" >Nbwashrooms</th>\n",
       "      <td id=\"T_20d0e_row2_col0\" class=\"data row2 col0\" >0.827072</td>\n",
       "      <td id=\"T_20d0e_row2_col1\" class=\"data row2 col1\" >0.956578</td>\n",
       "      <td id=\"T_20d0e_row2_col2\" class=\"data row2 col2\" >1.000000</td>\n",
       "      <td id=\"T_20d0e_row2_col3\" class=\"data row2 col3\" >0.960007</td>\n",
       "      <td id=\"T_20d0e_row2_col4\" class=\"data row2 col4\" >0.711936</td>\n",
       "      <td id=\"T_20d0e_row2_col5\" class=\"data row2 col5\" >0.683659</td>\n",
       "    </tr>\n",
       "    <tr>\n",
       "      <th id=\"T_20d0e_level0_row3\" class=\"row_heading level0 row3\" >Twashrooms</th>\n",
       "      <td id=\"T_20d0e_row3_col0\" class=\"data row3 col0\" >0.794870</td>\n",
       "      <td id=\"T_20d0e_row3_col1\" class=\"data row3 col1\" >0.919158</td>\n",
       "      <td id=\"T_20d0e_row3_col2\" class=\"data row3 col2\" >0.960007</td>\n",
       "      <td id=\"T_20d0e_row3_col3\" class=\"data row3 col3\" >1.000000</td>\n",
       "      <td id=\"T_20d0e_row3_col4\" class=\"data row3 col4\" >0.684966</td>\n",
       "      <td id=\"T_20d0e_row3_col5\" class=\"data row3 col5\" >0.654627</td>\n",
       "    </tr>\n",
       "    <tr>\n",
       "      <th id=\"T_20d0e_level0_row4\" class=\"row_heading level0 row4\" >Nfloors</th>\n",
       "      <td id=\"T_20d0e_row4_col0\" class=\"data row4 col0\" >0.862367</td>\n",
       "      <td id=\"T_20d0e_row4_col1\" class=\"data row4 col1\" >0.742132</td>\n",
       "      <td id=\"T_20d0e_row4_col2\" class=\"data row4 col2\" >0.711936</td>\n",
       "      <td id=\"T_20d0e_row4_col3\" class=\"data row4 col3\" >0.684966</td>\n",
       "      <td id=\"T_20d0e_row4_col4\" class=\"data row4 col4\" >1.000000</td>\n",
       "      <td id=\"T_20d0e_row4_col5\" class=\"data row4 col5\" >0.714598</td>\n",
       "    </tr>\n",
       "    <tr>\n",
       "      <th id=\"T_20d0e_level0_row5\" class=\"row_heading level0 row5\" >Expected price</th>\n",
       "      <td id=\"T_20d0e_row5_col0\" class=\"data row5 col0\" >0.820170</td>\n",
       "      <td id=\"T_20d0e_row5_col1\" class=\"data row5 col1\" >0.715687</td>\n",
       "      <td id=\"T_20d0e_row5_col2\" class=\"data row5 col2\" >0.683659</td>\n",
       "      <td id=\"T_20d0e_row5_col3\" class=\"data row5 col3\" >0.654627</td>\n",
       "      <td id=\"T_20d0e_row5_col4\" class=\"data row5 col4\" >0.714598</td>\n",
       "      <td id=\"T_20d0e_row5_col5\" class=\"data row5 col5\" >1.000000</td>\n",
       "    </tr>\n",
       "  </tbody>\n",
       "</table>\n"
      ],
      "text/plain": [
       "<pandas.io.formats.style.Styler at 0x136533fd0d0>"
      ]
     },
     "execution_count": 88,
     "metadata": {},
     "output_type": "execute_result"
    }
   ],
   "source": [
    "# Finding correlation among numerical features, based on their strong relation we can choose the important features\n",
    "corr=house_df_scaled.corr()\n",
    "corr.style.background_gradient(cmap='coolwarm')"
   ]
  },
  {
   "cell_type": "code",
   "execution_count": 89,
   "id": "319455f9",
   "metadata": {},
   "outputs": [
    {
     "data": {
      "image/png": "[encoded data removed]",
      "text/plain": [
       "<Figure size 432x288 with 2 Axes>"
      ]
     },
     "metadata": {},
     "output_type": "display_data"
    }
   ],
   "source": [
    "new_df_scaled=house_df_scaled[['Trooms', 'Nbedrooms', 'Nbwashrooms','Twashrooms','Nfloors','Expected price']]\n",
    "hm = sns.heatmap(new_df_scaled.corr(), annot = True)\n",
    "hm.set(xlabel='\\nCharges Details', ylabel='Charges Details', title = \"Correlation matrix of house charges\\n\")\n",
    "plt.show()"
   ]
  },
  {
   "cell_type": "code",
   "execution_count": 149,
   "id": "25f885e4",
   "metadata": {},
   "outputs": [
    {
     "data": {
      "text/html": [
       "<div>\n",
       "<style scoped>\n",
       "    .dataframe tbody tr th:only-of-type {\n",
       "        vertical-align: middle;\n",
       "    }\n",
       "\n",
       "    .dataframe tbody tr th {\n",
       "        vertical-align: top;\n",
       "    }\n",
       "\n",
       "    .dataframe thead th {\n",
       "        text-align: right;\n",
       "    }\n",
       "</style>\n",
       "<table border=\"1\" class=\"dataframe\">\n",
       "  <thead>\n",
       "    <tr style=\"text-align: right;\">\n",
       "      <th></th>\n",
       "      <th>Trooms</th>\n",
       "      <th>Nbedrooms</th>\n",
       "      <th>Nbwashrooms</th>\n",
       "      <th>Twashrooms</th>\n",
       "      <th>Nfloors</th>\n",
       "      <th>Expected price</th>\n",
       "    </tr>\n",
       "  </thead>\n",
       "  <tbody>\n",
       "    <tr>\n",
       "      <th>0</th>\n",
       "      <td>0.25</td>\n",
       "      <td>0.500000</td>\n",
       "      <td>0.428571</td>\n",
       "      <td>0.500</td>\n",
       "      <td>0.166667</td>\n",
       "      <td>0.360251</td>\n",
       "    </tr>\n",
       "    <tr>\n",
       "      <th>1</th>\n",
       "      <td>0.00</td>\n",
       "      <td>0.333333</td>\n",
       "      <td>0.285714</td>\n",
       "      <td>0.250</td>\n",
       "      <td>0.333333</td>\n",
       "      <td>0.370944</td>\n",
       "    </tr>\n",
       "    <tr>\n",
       "      <th>2</th>\n",
       "      <td>0.50</td>\n",
       "      <td>0.500000</td>\n",
       "      <td>0.428571</td>\n",
       "      <td>0.375</td>\n",
       "      <td>0.666667</td>\n",
       "      <td>0.458702</td>\n",
       "    </tr>\n",
       "    <tr>\n",
       "      <th>3</th>\n",
       "      <td>0.25</td>\n",
       "      <td>0.333333</td>\n",
       "      <td>0.285714</td>\n",
       "      <td>0.375</td>\n",
       "      <td>0.166667</td>\n",
       "      <td>0.232301</td>\n",
       "    </tr>\n",
       "    <tr>\n",
       "      <th>4</th>\n",
       "      <td>0.50</td>\n",
       "      <td>0.333333</td>\n",
       "      <td>0.428571</td>\n",
       "      <td>0.375</td>\n",
       "      <td>0.333333</td>\n",
       "      <td>0.493732</td>\n",
       "    </tr>\n",
       "  </tbody>\n",
       "</table>\n",
       "</div>"
      ],
      "text/plain": [
       "   Trooms  Nbedrooms  Nbwashrooms  Twashrooms   Nfloors  Expected price\n",
       "0    0.25   0.500000     0.428571       0.500  0.166667        0.360251\n",
       "1    0.00   0.333333     0.285714       0.250  0.333333        0.370944\n",
       "2    0.50   0.500000     0.428571       0.375  0.666667        0.458702\n",
       "3    0.25   0.333333     0.285714       0.375  0.166667        0.232301\n",
       "4    0.50   0.333333     0.428571       0.375  0.333333        0.493732"
      ]
     },
     "execution_count": 149,
     "metadata": {},
     "output_type": "execute_result"
    }
   ],
   "source": [
    "house_df_scaled.head()"
   ]
  },
  {
   "cell_type": "markdown",
   "id": "75129aa9",
   "metadata": {},
   "source": [
    "### Splitting data"
   ]
  },
  {
   "cell_type": "code",
   "execution_count": 97,
   "id": "b1282699",
   "metadata": {},
   "outputs": [],
   "source": [
    "X=house_df_scaled\n",
    "y=house['Grade_encode']\n"
   ]
  },
  {
   "cell_type": "code",
   "execution_count": 101,
   "id": "0cbb38ea",
   "metadata": {},
   "outputs": [],
   "source": [
    "X_train,X_test,Y_train,Y_test=train_test_split(X,y,test_size=.2,random_state=2)"
   ]
  },
  {
   "cell_type": "markdown",
   "id": "1650abdf",
   "metadata": {},
   "source": [
    "### Logistic Regression"
   ]
  },
  {
   "cell_type": "code",
   "execution_count": 102,
   "id": "1ef20a80",
   "metadata": {},
   "outputs": [
    {
     "data": {
      "text/plain": [
       "79.75"
      ]
     },
     "execution_count": 102,
     "metadata": {},
     "output_type": "execute_result"
    }
   ],
   "source": [
    "# Logistic Regression - training the model\n",
    "logreg = LogisticRegression()\n",
    "logreg.fit(X_train, Y_train)\n",
    "# Using the trained model to predict the outcome of the X_Test dataset\n",
    "Y_pred = logreg.predict(X_test)\n",
    "#Calculating the accuracy of the training dataset\n",
    "acc_log = round(logreg.score(X_train, Y_train) * 100, 2)\n",
    "acc_log"
   ]
  },
  {
   "cell_type": "code",
   "execution_count": 150,
   "id": "e15bc4be",
   "metadata": {
    "scrolled": true
   },
   "outputs": [
    {
     "data": {
      "text/html": [
       "<div>\n",
       "<style scoped>\n",
       "    .dataframe tbody tr th:only-of-type {\n",
       "        vertical-align: middle;\n",
       "    }\n",
       "\n",
       "    .dataframe tbody tr th {\n",
       "        vertical-align: top;\n",
       "    }\n",
       "\n",
       "    .dataframe thead th {\n",
       "        text-align: right;\n",
       "    }\n",
       "</style>\n",
       "<table border=\"1\" class=\"dataframe\">\n",
       "  <thead>\n",
       "    <tr style=\"text-align: right;\">\n",
       "      <th></th>\n",
       "      <th>Actual value</th>\n",
       "      <th>Predicted Value</th>\n",
       "    </tr>\n",
       "  </thead>\n",
       "  <tbody>\n",
       "    <tr>\n",
       "      <th>1291</th>\n",
       "      <td>3</td>\n",
       "      <td>3</td>\n",
       "    </tr>\n",
       "    <tr>\n",
       "      <th>595</th>\n",
       "      <td>2</td>\n",
       "      <td>2</td>\n",
       "    </tr>\n",
       "    <tr>\n",
       "      <th>236</th>\n",
       "      <td>1</td>\n",
       "      <td>1</td>\n",
       "    </tr>\n",
       "    <tr>\n",
       "      <th>2824</th>\n",
       "      <td>2</td>\n",
       "      <td>1</td>\n",
       "    </tr>\n",
       "    <tr>\n",
       "      <th>1290</th>\n",
       "      <td>1</td>\n",
       "      <td>0</td>\n",
       "    </tr>\n",
       "  </tbody>\n",
       "</table>\n",
       "</div>"
      ],
      "text/plain": [
       "      Actual value  Predicted Value\n",
       "1291             3                3\n",
       "595              2                2\n",
       "236              1                1\n",
       "2824             2                1\n",
       "1290             1                0"
      ]
     },
     "execution_count": 150,
     "metadata": {},
     "output_type": "execute_result"
    }
   ],
   "source": [
    "df=pd.DataFrame({\"Actual value\":Y_test,\"Predicted Value\":Y_pred})\n",
    "df.head()"
   ]
  },
  {
   "cell_type": "code",
   "execution_count": 109,
   "id": "1e151c82",
   "metadata": {},
   "outputs": [
    {
     "name": "stdout",
     "output_type": "stream",
     "text": [
      "[[ 79  13   0   0   0]\n",
      " [  8  89  12   0   0]\n",
      " [  0  16  89  23   0]\n",
      " [  0   0  15 244   0]\n",
      " [  0   0   0  12   0]]\n"
     ]
    }
   ],
   "source": [
    "from sklearn.metrics import confusion_matrix\n",
    "print(confusion_matrix(Y_test,Y_pred))\n",
    "cm = confusion_matrix(Y_test,Y_pred).ravel()"
   ]
  },
  {
   "cell_type": "code",
   "execution_count": 113,
   "id": "ff54df2a",
   "metadata": {},
   "outputs": [
    {
     "name": "stdout",
     "output_type": "stream",
     "text": [
      "accuracy: 0.835\n",
      "recall: 0.835\n",
      "f1-score: 0.8249741445990811\n",
      "precision: 0.8174465856950632\n"
     ]
    }
   ],
   "source": [
    " from sklearn.metrics import recall_score\n",
    "from sklearn.metrics import f1_score\n",
    "from sklearn.metrics import accuracy_score\n",
    "from sklearn.metrics import precision_score\n",
    "print('accuracy:', accuracy_score(Y_test, Y_pred))\n",
    "print('recall:', recall_score(Y_test, Y_pred,average='weighted'))\n",
    "print('f1-score:', f1_score(Y_test, Y_pred,average='weighted'))\n",
    "print('precision:', precision_score(Y_test, Y_pred,average='weighted'))"
   ]
  },
  {
   "cell_type": "markdown",
   "id": "59d5d558",
   "metadata": {},
   "source": [
    "### Modeling - Naïve Bayes"
   ]
  },
  {
   "cell_type": "code",
   "execution_count": 134,
   "id": "d91a8bd8",
   "metadata": {},
   "outputs": [
    {
     "data": {
      "text/plain": [
       "GaussianNB()"
      ]
     },
     "execution_count": 134,
     "metadata": {},
     "output_type": "execute_result"
    }
   ],
   "source": [
    "from sklearn.naive_bayes import GaussianNB\n",
    "# Fitting Naive Bayes to the Training set  \n",
    "NB_model=GaussianNB()\n",
    "NB_model.fit(X_train,Y_train)"
   ]
  },
  {
   "cell_type": "code",
   "execution_count": 135,
   "id": "23769741",
   "metadata": {},
   "outputs": [],
   "source": [
    "# Predicting the Test set results  \n",
    "y_pred=NB_model.predict(X_test)\n"
   ]
  },
  {
   "cell_type": "code",
   "execution_count": 154,
   "id": "921efb3c",
   "metadata": {},
   "outputs": [
    {
     "data": {
      "text/plain": [
       "array([[ 48,  44,   0,   0,   0],\n",
       "       [  1,  99,   9,   0,   0],\n",
       "       [  0,  28,  66,  34,   0],\n",
       "       [  0,   0,  11, 248,   0],\n",
       "       [  0,   0,   0,  12,   0]], dtype=int64)"
      ]
     },
     "execution_count": 154,
     "metadata": {},
     "output_type": "execute_result"
    }
   ],
   "source": [
    "# Making the Confusion Matrix  \n",
    "from sklearn.metrics import confusion_matrix\n",
    "cm2=confusion_matrix(Y_test,y_pred)\n",
    "cm2"
   ]
  },
  {
   "cell_type": "code",
   "execution_count": 155,
   "id": "15ab2362",
   "metadata": {},
   "outputs": [
    {
     "data": {
      "text/plain": [
       "0.7683333333333333"
      ]
     },
     "execution_count": 155,
     "metadata": {},
     "output_type": "execute_result"
    }
   ],
   "source": [
    "# Evaluate Accuracy Score\n",
    "accuracy_score(Y_test, y_pred)\n"
   ]
  },
  {
   "cell_type": "code",
   "execution_count": 156,
   "id": "05bfaabb",
   "metadata": {},
   "outputs": [
    {
     "data": {
      "text/plain": [
       "array([2, 3, 2, ..., 1, 2, 3])"
      ]
     },
     "execution_count": 156,
     "metadata": {},
     "output_type": "execute_result"
    }
   ],
   "source": [
    "# Predicting the train set results  \n",
    "y_pred_train=NB_model.predict(X_train)\n",
    "y_pred_train"
   ]
  },
  {
   "cell_type": "code",
   "execution_count": 157,
   "id": "d3be1709",
   "metadata": {},
   "outputs": [
    {
     "data": {
      "text/plain": [
       "array([[257,  50,   0,   0,   0],\n",
       "       [ 42, 347,  41,   0,   0],\n",
       "       [  0,  88, 421,  79,   0],\n",
       "       [  0,   0, 150, 691, 170],\n",
       "       [  0,   0,   0,  20,  44]], dtype=int64)"
      ]
     },
     "execution_count": 157,
     "metadata": {},
     "output_type": "execute_result"
    }
   ],
   "source": [
    "# Making the Confusion Matrix  \n",
    "from sklearn.metrics import confusion_matrix\n",
    "cm1=confusion_matrix(Y_train,y_pred_train)\n",
    "cm1"
   ]
  },
  {
   "cell_type": "code",
   "execution_count": 158,
   "id": "8ff53008",
   "metadata": {},
   "outputs": [
    {
     "data": {
      "text/plain": [
       "0.7333333333333333"
      ]
     },
     "execution_count": 158,
     "metadata": {},
     "output_type": "execute_result"
    }
   ],
   "source": [
    "# Evaluate Accuracy Score\n",
    "accuracy_score(Y_train, y_pred_train)\n"
   ]
  },
  {
   "cell_type": "markdown",
   "id": "907b070f",
   "metadata": {},
   "source": [
    "### Modeling - Decision Tree"
   ]
  },
  {
   "cell_type": "code",
   "execution_count": 161,
   "id": "85279e62",
   "metadata": {},
   "outputs": [],
   "source": [
    "from sklearn.tree import DecisionTreeClassifier # Import Decision Tree Classifier\n",
    "from sklearn.model_selection import train_test_split # Import train_test_split function\n",
    "from sklearn import metrics #Import scikit-learn metrics module for accuracy calculation"
   ]
  },
  {
   "cell_type": "code",
   "execution_count": 162,
   "id": "3deee0b1",
   "metadata": {},
   "outputs": [],
   "source": [
    "# Create Decision Tree classifer object\n",
    "clf = DecisionTreeClassifier(max_depth=3)\n",
    "# Train Decision Tree Classifer\n",
    "clf = clf.fit(X_train,Y_train)\n",
    "#Predict the response for test dataset\n",
    "y_pred = clf.predict(X_test)\n"
   ]
  },
  {
   "cell_type": "code",
   "execution_count": 163,
   "id": "ab78b594",
   "metadata": {},
   "outputs": [
    {
     "data": {
      "text/plain": [
       "array([[ 48,  44,   0,   0,   0],\n",
       "       [  1,  99,   9,   0,   0],\n",
       "       [  0,  28,  66,  34,   0],\n",
       "       [  0,   0,  11, 248,   0],\n",
       "       [  0,   0,   0,  12,   0]], dtype=int64)"
      ]
     },
     "execution_count": 163,
     "metadata": {},
     "output_type": "execute_result"
    }
   ],
   "source": [
    "# Making the Confusion Matrix  \n",
    "from sklearn.metrics import confusion_matrix\n",
    "cm3=confusion_matrix(Y_test,y_pred)\n",
    "cm3"
   ]
  },
  {
   "cell_type": "code",
   "execution_count": 164,
   "id": "aad07811",
   "metadata": {},
   "outputs": [
    {
     "name": "stdout",
     "output_type": "stream",
     "text": [
      "Accuracy: 0.7683333333333333\n"
     ]
    }
   ],
   "source": [
    "# Model Accuracy, how often is the classifier correct?\n",
    "print(\"Accuracy:\",metrics.accuracy_score(Y_test, y_pred))\n"
   ]
  },
  {
   "cell_type": "code",
   "execution_count": 165,
   "id": "c07549e5",
   "metadata": {},
   "outputs": [
    {
     "data": {
      "text/plain": [
       "array([[257,  50,   0,   0,   0],\n",
       "       [ 42, 347,  41,   0,   0],\n",
       "       [  0,  88, 421,  79,   0],\n",
       "       [  0,   0, 150, 691, 170],\n",
       "       [  0,   0,   0,  20,  44]], dtype=int64)"
      ]
     },
     "execution_count": 165,
     "metadata": {},
     "output_type": "execute_result"
    }
   ],
   "source": [
    "# Making the Confusion Matrix  \n",
    "from sklearn.metrics import confusion_matrix\n",
    "cm4=confusion_matrix(Y_train,y_pred_train)\n",
    "cm4"
   ]
  },
  {
   "cell_type": "code",
   "execution_count": 166,
   "id": "a9ba0ae4",
   "metadata": {},
   "outputs": [
    {
     "data": {
      "text/plain": [
       "array([3, 3, 3, ..., 1, 2, 3])"
      ]
     },
     "execution_count": 166,
     "metadata": {},
     "output_type": "execute_result"
    }
   ],
   "source": [
    "y_pred_train = clf.predict(X_train)\n",
    "y_pred_train"
   ]
  },
  {
   "cell_type": "code",
   "execution_count": 167,
   "id": "596ce200",
   "metadata": {},
   "outputs": [
    {
     "name": "stdout",
     "output_type": "stream",
     "text": [
      "Accuracy: 0.7508333333333334\n"
     ]
    }
   ],
   "source": [
    "print(\"Accuracy:\",metrics.accuracy_score(Y_train, y_pred_train))"
   ]
  },
  {
   "cell_type": "markdown",
   "id": "9f084037",
   "metadata": {},
   "source": [
    "## Conclusion:\n",
    "    "
   ]
  },
  {
   "cell_type": "markdown",
   "id": "b6d417b2",
   "metadata": {},
   "source": [
    "### As we build three models( logestic regression, Navies bayes and Decision Tree classifer) all model gives approximatly same prediction values as the model"
   ]
  },
  {
   "cell_type": "markdown",
   "id": "13faa81f",
   "metadata": {},
   "source": [
    "#### \n",
    "- Accuracy for logestic regression: 79.75%\n",
    "- Accuracy for  Navies bayes model : 73.33%\n",
    "- Accuracy for  Decision Tree classifer: 75.08%\n",
    "    - So we can go for Logistic Regression model"
   ]
  },
  {
   "cell_type": "code",
   "execution_count": null,
   "id": "35e259b0",
   "metadata": {},
   "outputs": [],
   "source": []
  }
 ],
 "metadata": {
  "kernelspec": {
   "display_name": "Python 3 (ipykernel)",
   "language": "python",
   "name": "python3"
  },
  "language_info": {
   "codemirror_mode": {
    "name": "ipython",
    "version": 3
   },
   "file_extension": ".py",
   "mimetype": "text/x-python",
   "name": "python",
   "nbconvert_exporter": "python",
   "pygments_lexer": "ipython3",
   "version": "3.9.12"
  }
 },
 "nbformat": 4,
 "nbformat_minor": 5
}

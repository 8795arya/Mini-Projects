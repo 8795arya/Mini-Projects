{
 "cells": [
  {
   "cell_type": "markdown",
   "id": "89cd0fc3",
   "metadata": {},
   "source": [
    "# Business Objective\n",
    "\n"
   ]
  },
  {
   "cell_type": "markdown",
   "id": "173646a7",
   "metadata": {},
   "source": [
    "## Build a forecast model to predict the furniture sales of a certain store"
   ]
  },
  {
   "cell_type": "code",
   "execution_count": 1,
   "id": "d7270355",
   "metadata": {},
   "outputs": [],
   "source": [
    "# import libraries\n",
    "import pandas as pd\n",
    "import numpy as np\n",
    "import matplotlib.pyplot as plt\n",
    "\n",
    "from statsmodels.tsa.seasonal import seasonal_decompose\n",
    "\n",
    "# dickey fuller test for stationarity check\n",
    "from statsmodels.tsa.stattools import adfuller,acf,pacf\n",
    "\n",
    "from statsmodels.tsa.statespace.tools import diff\n",
    "\n",
    "# pip install pmdarima\n",
    "from pmdarima.arima import auto_arima\n",
    "\n",
    "from statsmodels.tsa.arima.model import ARIMA\n",
    "from statsmodels.graphics.tsaplots import plot_acf,plot_pacf\n",
    "\n",
    "from sklearn.metrics import mean_squared_error\n",
    "import statsmodels.api as sm\n",
    "\n",
    "import warnings\n",
    "warnings.filterwarnings('ignore')"
   ]
  },
  {
   "cell_type": "markdown",
   "id": "a69401e5",
   "metadata": {},
   "source": [
    "### Uploading Data"
   ]
  },
  {
   "cell_type": "code",
   "execution_count": 2,
   "id": "c944ab73",
   "metadata": {},
   "outputs": [
    {
     "data": {
      "text/html": [
       "<div>\n",
       "<style scoped>\n",
       "    .dataframe tbody tr th:only-of-type {\n",
       "        vertical-align: middle;\n",
       "    }\n",
       "\n",
       "    .dataframe tbody tr th {\n",
       "        vertical-align: top;\n",
       "    }\n",
       "\n",
       "    .dataframe thead th {\n",
       "        text-align: right;\n",
       "    }\n",
       "</style>\n",
       "<table border=\"1\" class=\"dataframe\">\n",
       "  <thead>\n",
       "    <tr style=\"text-align: right;\">\n",
       "      <th></th>\n",
       "      <th>Row ID</th>\n",
       "      <th>Order ID</th>\n",
       "      <th>Order Date</th>\n",
       "      <th>Ship Date</th>\n",
       "      <th>Ship Mode</th>\n",
       "      <th>Customer ID</th>\n",
       "      <th>Customer Name</th>\n",
       "      <th>Segment</th>\n",
       "      <th>Country</th>\n",
       "      <th>City</th>\n",
       "      <th>...</th>\n",
       "      <th>Postal Code</th>\n",
       "      <th>Region</th>\n",
       "      <th>Product ID</th>\n",
       "      <th>Category</th>\n",
       "      <th>Sub-Category</th>\n",
       "      <th>Product Name</th>\n",
       "      <th>Sales</th>\n",
       "      <th>Quantity</th>\n",
       "      <th>Discount</th>\n",
       "      <th>Profit</th>\n",
       "    </tr>\n",
       "  </thead>\n",
       "  <tbody>\n",
       "    <tr>\n",
       "      <th>9493</th>\n",
       "      <td>9494</td>\n",
       "      <td>CA-2016-105207</td>\n",
       "      <td>2016-01-03</td>\n",
       "      <td>2016-01-08</td>\n",
       "      <td>Standard Class</td>\n",
       "      <td>BO-11350</td>\n",
       "      <td>Bill Overfelt</td>\n",
       "      <td>Corporate</td>\n",
       "      <td>United States</td>\n",
       "      <td>Broken Arrow</td>\n",
       "      <td>...</td>\n",
       "      <td>74012</td>\n",
       "      <td>Central</td>\n",
       "      <td>FUR-TA-10000617</td>\n",
       "      <td>Furniture</td>\n",
       "      <td>Tables</td>\n",
       "      <td>Hon Practical Foundations 30 x 60 Training Tab...</td>\n",
       "      <td>1592.850</td>\n",
       "      <td>7</td>\n",
       "      <td>0.0</td>\n",
       "      <td>350.4270</td>\n",
       "    </tr>\n",
       "    <tr>\n",
       "      <th>1080</th>\n",
       "      <td>1081</td>\n",
       "      <td>CA-2015-110016</td>\n",
       "      <td>2015-11-29</td>\n",
       "      <td>2015-12-04</td>\n",
       "      <td>Standard Class</td>\n",
       "      <td>BT-11395</td>\n",
       "      <td>Bill Tyler</td>\n",
       "      <td>Corporate</td>\n",
       "      <td>United States</td>\n",
       "      <td>Detroit</td>\n",
       "      <td>...</td>\n",
       "      <td>48227</td>\n",
       "      <td>Central</td>\n",
       "      <td>OFF-PA-10000349</td>\n",
       "      <td>Office Supplies</td>\n",
       "      <td>Paper</td>\n",
       "      <td>Easy-staple paper</td>\n",
       "      <td>19.920</td>\n",
       "      <td>4</td>\n",
       "      <td>0.0</td>\n",
       "      <td>9.3624</td>\n",
       "    </tr>\n",
       "    <tr>\n",
       "      <th>2183</th>\n",
       "      <td>2184</td>\n",
       "      <td>CA-2016-128818</td>\n",
       "      <td>2016-05-07</td>\n",
       "      <td>2016-05-11</td>\n",
       "      <td>Standard Class</td>\n",
       "      <td>CJ-12010</td>\n",
       "      <td>Caroline Jumper</td>\n",
       "      <td>Consumer</td>\n",
       "      <td>United States</td>\n",
       "      <td>New York City</td>\n",
       "      <td>...</td>\n",
       "      <td>10009</td>\n",
       "      <td>East</td>\n",
       "      <td>TEC-AC-10001767</td>\n",
       "      <td>Technology</td>\n",
       "      <td>Accessories</td>\n",
       "      <td>SanDisk Ultra 64 GB MicroSDHC Class 10 Memory ...</td>\n",
       "      <td>199.950</td>\n",
       "      <td>5</td>\n",
       "      <td>0.0</td>\n",
       "      <td>21.9945</td>\n",
       "    </tr>\n",
       "    <tr>\n",
       "      <th>4799</th>\n",
       "      <td>4800</td>\n",
       "      <td>US-2016-148901</td>\n",
       "      <td>2016-05-14</td>\n",
       "      <td>2016-05-19</td>\n",
       "      <td>Standard Class</td>\n",
       "      <td>MK-17905</td>\n",
       "      <td>Michael Kennedy</td>\n",
       "      <td>Corporate</td>\n",
       "      <td>United States</td>\n",
       "      <td>Jacksonville</td>\n",
       "      <td>...</td>\n",
       "      <td>32216</td>\n",
       "      <td>South</td>\n",
       "      <td>TEC-PH-10003988</td>\n",
       "      <td>Technology</td>\n",
       "      <td>Phones</td>\n",
       "      <td>LF Elite 3D Dazzle Designer Hard Case Cover, L...</td>\n",
       "      <td>43.600</td>\n",
       "      <td>5</td>\n",
       "      <td>0.2</td>\n",
       "      <td>4.3600</td>\n",
       "    </tr>\n",
       "    <tr>\n",
       "      <th>8925</th>\n",
       "      <td>8926</td>\n",
       "      <td>CA-2016-168032</td>\n",
       "      <td>2016-01-30</td>\n",
       "      <td>2016-02-03</td>\n",
       "      <td>Standard Class</td>\n",
       "      <td>DF-13135</td>\n",
       "      <td>David Flashing</td>\n",
       "      <td>Consumer</td>\n",
       "      <td>United States</td>\n",
       "      <td>Rockford</td>\n",
       "      <td>...</td>\n",
       "      <td>61107</td>\n",
       "      <td>Central</td>\n",
       "      <td>OFF-BI-10000546</td>\n",
       "      <td>Office Supplies</td>\n",
       "      <td>Binders</td>\n",
       "      <td>Avery Durable Binders</td>\n",
       "      <td>1.728</td>\n",
       "      <td>3</td>\n",
       "      <td>0.8</td>\n",
       "      <td>-2.6784</td>\n",
       "    </tr>\n",
       "  </tbody>\n",
       "</table>\n",
       "<p>5 rows × 21 columns</p>\n",
       "</div>"
      ],
      "text/plain": [
       "      Row ID        Order ID Order Date  Ship Date       Ship Mode  \\\n",
       "9493    9494  CA-2016-105207 2016-01-03 2016-01-08  Standard Class   \n",
       "1080    1081  CA-2015-110016 2015-11-29 2015-12-04  Standard Class   \n",
       "2183    2184  CA-2016-128818 2016-05-07 2016-05-11  Standard Class   \n",
       "4799    4800  US-2016-148901 2016-05-14 2016-05-19  Standard Class   \n",
       "8925    8926  CA-2016-168032 2016-01-30 2016-02-03  Standard Class   \n",
       "\n",
       "     Customer ID    Customer Name    Segment        Country           City  \\\n",
       "9493    BO-11350    Bill Overfelt  Corporate  United States   Broken Arrow   \n",
       "1080    BT-11395       Bill Tyler  Corporate  United States        Detroit   \n",
       "2183    CJ-12010  Caroline Jumper   Consumer  United States  New York City   \n",
       "4799    MK-17905  Michael Kennedy  Corporate  United States   Jacksonville   \n",
       "8925    DF-13135   David Flashing   Consumer  United States       Rockford   \n",
       "\n",
       "      ... Postal Code   Region       Product ID         Category Sub-Category  \\\n",
       "9493  ...       74012  Central  FUR-TA-10000617        Furniture       Tables   \n",
       "1080  ...       48227  Central  OFF-PA-10000349  Office Supplies        Paper   \n",
       "2183  ...       10009     East  TEC-AC-10001767       Technology  Accessories   \n",
       "4799  ...       32216    South  TEC-PH-10003988       Technology       Phones   \n",
       "8925  ...       61107  Central  OFF-BI-10000546  Office Supplies      Binders   \n",
       "\n",
       "                                           Product Name     Sales  Quantity  \\\n",
       "9493  Hon Practical Foundations 30 x 60 Training Tab...  1592.850         7   \n",
       "1080                                  Easy-staple paper    19.920         4   \n",
       "2183  SanDisk Ultra 64 GB MicroSDHC Class 10 Memory ...   199.950         5   \n",
       "4799  LF Elite 3D Dazzle Designer Hard Case Cover, L...    43.600         5   \n",
       "8925                              Avery Durable Binders     1.728         3   \n",
       "\n",
       "      Discount    Profit  \n",
       "9493       0.0  350.4270  \n",
       "1080       0.0    9.3624  \n",
       "2183       0.0   21.9945  \n",
       "4799       0.2    4.3600  \n",
       "8925       0.8   -2.6784  \n",
       "\n",
       "[5 rows x 21 columns]"
      ]
     },
     "execution_count": 2,
     "metadata": {},
     "output_type": "execute_result"
    }
   ],
   "source": [
    "furniture_df=pd.read_excel(\"Proj4_TimeSeries_Sales_Data_Project.xls\")\n",
    "furniture_df.sample(5)"
   ]
  },
  {
   "cell_type": "markdown",
   "id": "772b42d9",
   "metadata": {},
   "source": [
    "## Understanding Data"
   ]
  },
  {
   "cell_type": "code",
   "execution_count": 3,
   "id": "a0d53963",
   "metadata": {},
   "outputs": [
    {
     "data": {
      "text/plain": [
       "(9994, 21)"
      ]
     },
     "execution_count": 3,
     "metadata": {},
     "output_type": "execute_result"
    }
   ],
   "source": [
    "#Checking the dimension of the time series data\n",
    "furniture_df.shape"
   ]
  },
  {
   "cell_type": "code",
   "execution_count": 4,
   "id": "16eec8c3",
   "metadata": {},
   "outputs": [
    {
     "data": {
      "text/html": [
       "<div>\n",
       "<style scoped>\n",
       "    .dataframe tbody tr th:only-of-type {\n",
       "        vertical-align: middle;\n",
       "    }\n",
       "\n",
       "    .dataframe tbody tr th {\n",
       "        vertical-align: top;\n",
       "    }\n",
       "\n",
       "    .dataframe thead th {\n",
       "        text-align: right;\n",
       "    }\n",
       "</style>\n",
       "<table border=\"1\" class=\"dataframe\">\n",
       "  <thead>\n",
       "    <tr style=\"text-align: right;\">\n",
       "      <th></th>\n",
       "      <th>Row ID</th>\n",
       "      <th>Order ID</th>\n",
       "      <th>Order Date</th>\n",
       "      <th>Ship Date</th>\n",
       "      <th>Ship Mode</th>\n",
       "      <th>Customer ID</th>\n",
       "      <th>Customer Name</th>\n",
       "      <th>Segment</th>\n",
       "      <th>Country</th>\n",
       "      <th>City</th>\n",
       "      <th>...</th>\n",
       "      <th>Postal Code</th>\n",
       "      <th>Region</th>\n",
       "      <th>Product ID</th>\n",
       "      <th>Category</th>\n",
       "      <th>Sub-Category</th>\n",
       "      <th>Product Name</th>\n",
       "      <th>Sales</th>\n",
       "      <th>Quantity</th>\n",
       "      <th>Discount</th>\n",
       "      <th>Profit</th>\n",
       "    </tr>\n",
       "  </thead>\n",
       "  <tbody>\n",
       "    <tr>\n",
       "      <th>count</th>\n",
       "      <td>9994.000000</td>\n",
       "      <td>9994</td>\n",
       "      <td>9994</td>\n",
       "      <td>9994</td>\n",
       "      <td>9994</td>\n",
       "      <td>9994</td>\n",
       "      <td>9994</td>\n",
       "      <td>9994</td>\n",
       "      <td>9994</td>\n",
       "      <td>9994</td>\n",
       "      <td>...</td>\n",
       "      <td>9994.000000</td>\n",
       "      <td>9994</td>\n",
       "      <td>9994</td>\n",
       "      <td>9994</td>\n",
       "      <td>9994</td>\n",
       "      <td>9994</td>\n",
       "      <td>9994.000000</td>\n",
       "      <td>9994.000000</td>\n",
       "      <td>9994.000000</td>\n",
       "      <td>9994.000000</td>\n",
       "    </tr>\n",
       "    <tr>\n",
       "      <th>unique</th>\n",
       "      <td>NaN</td>\n",
       "      <td>5009</td>\n",
       "      <td>1237</td>\n",
       "      <td>1334</td>\n",
       "      <td>4</td>\n",
       "      <td>793</td>\n",
       "      <td>793</td>\n",
       "      <td>3</td>\n",
       "      <td>1</td>\n",
       "      <td>531</td>\n",
       "      <td>...</td>\n",
       "      <td>NaN</td>\n",
       "      <td>4</td>\n",
       "      <td>1862</td>\n",
       "      <td>3</td>\n",
       "      <td>17</td>\n",
       "      <td>1850</td>\n",
       "      <td>NaN</td>\n",
       "      <td>NaN</td>\n",
       "      <td>NaN</td>\n",
       "      <td>NaN</td>\n",
       "    </tr>\n",
       "    <tr>\n",
       "      <th>top</th>\n",
       "      <td>NaN</td>\n",
       "      <td>CA-2017-100111</td>\n",
       "      <td>2016-09-05 00:00:00</td>\n",
       "      <td>2015-12-16 00:00:00</td>\n",
       "      <td>Standard Class</td>\n",
       "      <td>WB-21850</td>\n",
       "      <td>William Brown</td>\n",
       "      <td>Consumer</td>\n",
       "      <td>United States</td>\n",
       "      <td>New York City</td>\n",
       "      <td>...</td>\n",
       "      <td>NaN</td>\n",
       "      <td>West</td>\n",
       "      <td>OFF-PA-10001970</td>\n",
       "      <td>Office Supplies</td>\n",
       "      <td>Binders</td>\n",
       "      <td>Staple envelope</td>\n",
       "      <td>NaN</td>\n",
       "      <td>NaN</td>\n",
       "      <td>NaN</td>\n",
       "      <td>NaN</td>\n",
       "    </tr>\n",
       "    <tr>\n",
       "      <th>freq</th>\n",
       "      <td>NaN</td>\n",
       "      <td>14</td>\n",
       "      <td>38</td>\n",
       "      <td>35</td>\n",
       "      <td>5968</td>\n",
       "      <td>37</td>\n",
       "      <td>37</td>\n",
       "      <td>5191</td>\n",
       "      <td>9994</td>\n",
       "      <td>915</td>\n",
       "      <td>...</td>\n",
       "      <td>NaN</td>\n",
       "      <td>3203</td>\n",
       "      <td>19</td>\n",
       "      <td>6026</td>\n",
       "      <td>1523</td>\n",
       "      <td>48</td>\n",
       "      <td>NaN</td>\n",
       "      <td>NaN</td>\n",
       "      <td>NaN</td>\n",
       "      <td>NaN</td>\n",
       "    </tr>\n",
       "    <tr>\n",
       "      <th>first</th>\n",
       "      <td>NaN</td>\n",
       "      <td>NaN</td>\n",
       "      <td>2014-01-03 00:00:00</td>\n",
       "      <td>2014-01-07 00:00:00</td>\n",
       "      <td>NaN</td>\n",
       "      <td>NaN</td>\n",
       "      <td>NaN</td>\n",
       "      <td>NaN</td>\n",
       "      <td>NaN</td>\n",
       "      <td>NaN</td>\n",
       "      <td>...</td>\n",
       "      <td>NaN</td>\n",
       "      <td>NaN</td>\n",
       "      <td>NaN</td>\n",
       "      <td>NaN</td>\n",
       "      <td>NaN</td>\n",
       "      <td>NaN</td>\n",
       "      <td>NaN</td>\n",
       "      <td>NaN</td>\n",
       "      <td>NaN</td>\n",
       "      <td>NaN</td>\n",
       "    </tr>\n",
       "    <tr>\n",
       "      <th>last</th>\n",
       "      <td>NaN</td>\n",
       "      <td>NaN</td>\n",
       "      <td>2017-12-30 00:00:00</td>\n",
       "      <td>2018-01-05 00:00:00</td>\n",
       "      <td>NaN</td>\n",
       "      <td>NaN</td>\n",
       "      <td>NaN</td>\n",
       "      <td>NaN</td>\n",
       "      <td>NaN</td>\n",
       "      <td>NaN</td>\n",
       "      <td>...</td>\n",
       "      <td>NaN</td>\n",
       "      <td>NaN</td>\n",
       "      <td>NaN</td>\n",
       "      <td>NaN</td>\n",
       "      <td>NaN</td>\n",
       "      <td>NaN</td>\n",
       "      <td>NaN</td>\n",
       "      <td>NaN</td>\n",
       "      <td>NaN</td>\n",
       "      <td>NaN</td>\n",
       "    </tr>\n",
       "    <tr>\n",
       "      <th>mean</th>\n",
       "      <td>4997.500000</td>\n",
       "      <td>NaN</td>\n",
       "      <td>NaN</td>\n",
       "      <td>NaN</td>\n",
       "      <td>NaN</td>\n",
       "      <td>NaN</td>\n",
       "      <td>NaN</td>\n",
       "      <td>NaN</td>\n",
       "      <td>NaN</td>\n",
       "      <td>NaN</td>\n",
       "      <td>...</td>\n",
       "      <td>55190.379428</td>\n",
       "      <td>NaN</td>\n",
       "      <td>NaN</td>\n",
       "      <td>NaN</td>\n",
       "      <td>NaN</td>\n",
       "      <td>NaN</td>\n",
       "      <td>229.858001</td>\n",
       "      <td>3.789574</td>\n",
       "      <td>0.156203</td>\n",
       "      <td>28.656896</td>\n",
       "    </tr>\n",
       "    <tr>\n",
       "      <th>std</th>\n",
       "      <td>2885.163629</td>\n",
       "      <td>NaN</td>\n",
       "      <td>NaN</td>\n",
       "      <td>NaN</td>\n",
       "      <td>NaN</td>\n",
       "      <td>NaN</td>\n",
       "      <td>NaN</td>\n",
       "      <td>NaN</td>\n",
       "      <td>NaN</td>\n",
       "      <td>NaN</td>\n",
       "      <td>...</td>\n",
       "      <td>32063.693350</td>\n",
       "      <td>NaN</td>\n",
       "      <td>NaN</td>\n",
       "      <td>NaN</td>\n",
       "      <td>NaN</td>\n",
       "      <td>NaN</td>\n",
       "      <td>623.245101</td>\n",
       "      <td>2.225110</td>\n",
       "      <td>0.206452</td>\n",
       "      <td>234.260108</td>\n",
       "    </tr>\n",
       "    <tr>\n",
       "      <th>min</th>\n",
       "      <td>1.000000</td>\n",
       "      <td>NaN</td>\n",
       "      <td>NaN</td>\n",
       "      <td>NaN</td>\n",
       "      <td>NaN</td>\n",
       "      <td>NaN</td>\n",
       "      <td>NaN</td>\n",
       "      <td>NaN</td>\n",
       "      <td>NaN</td>\n",
       "      <td>NaN</td>\n",
       "      <td>...</td>\n",
       "      <td>1040.000000</td>\n",
       "      <td>NaN</td>\n",
       "      <td>NaN</td>\n",
       "      <td>NaN</td>\n",
       "      <td>NaN</td>\n",
       "      <td>NaN</td>\n",
       "      <td>0.444000</td>\n",
       "      <td>1.000000</td>\n",
       "      <td>0.000000</td>\n",
       "      <td>-6599.978000</td>\n",
       "    </tr>\n",
       "    <tr>\n",
       "      <th>25%</th>\n",
       "      <td>2499.250000</td>\n",
       "      <td>NaN</td>\n",
       "      <td>NaN</td>\n",
       "      <td>NaN</td>\n",
       "      <td>NaN</td>\n",
       "      <td>NaN</td>\n",
       "      <td>NaN</td>\n",
       "      <td>NaN</td>\n",
       "      <td>NaN</td>\n",
       "      <td>NaN</td>\n",
       "      <td>...</td>\n",
       "      <td>23223.000000</td>\n",
       "      <td>NaN</td>\n",
       "      <td>NaN</td>\n",
       "      <td>NaN</td>\n",
       "      <td>NaN</td>\n",
       "      <td>NaN</td>\n",
       "      <td>17.280000</td>\n",
       "      <td>2.000000</td>\n",
       "      <td>0.000000</td>\n",
       "      <td>1.728750</td>\n",
       "    </tr>\n",
       "    <tr>\n",
       "      <th>50%</th>\n",
       "      <td>4997.500000</td>\n",
       "      <td>NaN</td>\n",
       "      <td>NaN</td>\n",
       "      <td>NaN</td>\n",
       "      <td>NaN</td>\n",
       "      <td>NaN</td>\n",
       "      <td>NaN</td>\n",
       "      <td>NaN</td>\n",
       "      <td>NaN</td>\n",
       "      <td>NaN</td>\n",
       "      <td>...</td>\n",
       "      <td>56430.500000</td>\n",
       "      <td>NaN</td>\n",
       "      <td>NaN</td>\n",
       "      <td>NaN</td>\n",
       "      <td>NaN</td>\n",
       "      <td>NaN</td>\n",
       "      <td>54.490000</td>\n",
       "      <td>3.000000</td>\n",
       "      <td>0.200000</td>\n",
       "      <td>8.666500</td>\n",
       "    </tr>\n",
       "    <tr>\n",
       "      <th>75%</th>\n",
       "      <td>7495.750000</td>\n",
       "      <td>NaN</td>\n",
       "      <td>NaN</td>\n",
       "      <td>NaN</td>\n",
       "      <td>NaN</td>\n",
       "      <td>NaN</td>\n",
       "      <td>NaN</td>\n",
       "      <td>NaN</td>\n",
       "      <td>NaN</td>\n",
       "      <td>NaN</td>\n",
       "      <td>...</td>\n",
       "      <td>90008.000000</td>\n",
       "      <td>NaN</td>\n",
       "      <td>NaN</td>\n",
       "      <td>NaN</td>\n",
       "      <td>NaN</td>\n",
       "      <td>NaN</td>\n",
       "      <td>209.940000</td>\n",
       "      <td>5.000000</td>\n",
       "      <td>0.200000</td>\n",
       "      <td>29.364000</td>\n",
       "    </tr>\n",
       "    <tr>\n",
       "      <th>max</th>\n",
       "      <td>9994.000000</td>\n",
       "      <td>NaN</td>\n",
       "      <td>NaN</td>\n",
       "      <td>NaN</td>\n",
       "      <td>NaN</td>\n",
       "      <td>NaN</td>\n",
       "      <td>NaN</td>\n",
       "      <td>NaN</td>\n",
       "      <td>NaN</td>\n",
       "      <td>NaN</td>\n",
       "      <td>...</td>\n",
       "      <td>99301.000000</td>\n",
       "      <td>NaN</td>\n",
       "      <td>NaN</td>\n",
       "      <td>NaN</td>\n",
       "      <td>NaN</td>\n",
       "      <td>NaN</td>\n",
       "      <td>22638.480000</td>\n",
       "      <td>14.000000</td>\n",
       "      <td>0.800000</td>\n",
       "      <td>8399.976000</td>\n",
       "    </tr>\n",
       "  </tbody>\n",
       "</table>\n",
       "<p>13 rows × 21 columns</p>\n",
       "</div>"
      ],
      "text/plain": [
       "             Row ID        Order ID           Order Date            Ship Date  \\\n",
       "count   9994.000000            9994                 9994                 9994   \n",
       "unique          NaN            5009                 1237                 1334   \n",
       "top             NaN  CA-2017-100111  2016-09-05 00:00:00  2015-12-16 00:00:00   \n",
       "freq            NaN              14                   38                   35   \n",
       "first           NaN             NaN  2014-01-03 00:00:00  2014-01-07 00:00:00   \n",
       "last            NaN             NaN  2017-12-30 00:00:00  2018-01-05 00:00:00   \n",
       "mean    4997.500000             NaN                  NaN                  NaN   \n",
       "std     2885.163629             NaN                  NaN                  NaN   \n",
       "min        1.000000             NaN                  NaN                  NaN   \n",
       "25%     2499.250000             NaN                  NaN                  NaN   \n",
       "50%     4997.500000             NaN                  NaN                  NaN   \n",
       "75%     7495.750000             NaN                  NaN                  NaN   \n",
       "max     9994.000000             NaN                  NaN                  NaN   \n",
       "\n",
       "             Ship Mode Customer ID  Customer Name   Segment        Country  \\\n",
       "count             9994        9994           9994      9994           9994   \n",
       "unique               4         793            793         3              1   \n",
       "top     Standard Class    WB-21850  William Brown  Consumer  United States   \n",
       "freq              5968          37             37      5191           9994   \n",
       "first              NaN         NaN            NaN       NaN            NaN   \n",
       "last               NaN         NaN            NaN       NaN            NaN   \n",
       "mean               NaN         NaN            NaN       NaN            NaN   \n",
       "std                NaN         NaN            NaN       NaN            NaN   \n",
       "min                NaN         NaN            NaN       NaN            NaN   \n",
       "25%                NaN         NaN            NaN       NaN            NaN   \n",
       "50%                NaN         NaN            NaN       NaN            NaN   \n",
       "75%                NaN         NaN            NaN       NaN            NaN   \n",
       "max                NaN         NaN            NaN       NaN            NaN   \n",
       "\n",
       "                 City  ...   Postal Code  Region       Product ID  \\\n",
       "count            9994  ...   9994.000000    9994             9994   \n",
       "unique            531  ...           NaN       4             1862   \n",
       "top     New York City  ...           NaN    West  OFF-PA-10001970   \n",
       "freq              915  ...           NaN    3203               19   \n",
       "first             NaN  ...           NaN     NaN              NaN   \n",
       "last              NaN  ...           NaN     NaN              NaN   \n",
       "mean              NaN  ...  55190.379428     NaN              NaN   \n",
       "std               NaN  ...  32063.693350     NaN              NaN   \n",
       "min               NaN  ...   1040.000000     NaN              NaN   \n",
       "25%               NaN  ...  23223.000000     NaN              NaN   \n",
       "50%               NaN  ...  56430.500000     NaN              NaN   \n",
       "75%               NaN  ...  90008.000000     NaN              NaN   \n",
       "max               NaN  ...  99301.000000     NaN              NaN   \n",
       "\n",
       "               Category Sub-Category     Product Name         Sales  \\\n",
       "count              9994         9994             9994   9994.000000   \n",
       "unique                3           17             1850           NaN   \n",
       "top     Office Supplies      Binders  Staple envelope           NaN   \n",
       "freq               6026         1523               48           NaN   \n",
       "first               NaN          NaN              NaN           NaN   \n",
       "last                NaN          NaN              NaN           NaN   \n",
       "mean                NaN          NaN              NaN    229.858001   \n",
       "std                 NaN          NaN              NaN    623.245101   \n",
       "min                 NaN          NaN              NaN      0.444000   \n",
       "25%                 NaN          NaN              NaN     17.280000   \n",
       "50%                 NaN          NaN              NaN     54.490000   \n",
       "75%                 NaN          NaN              NaN    209.940000   \n",
       "max                 NaN          NaN              NaN  22638.480000   \n",
       "\n",
       "           Quantity     Discount       Profit  \n",
       "count   9994.000000  9994.000000  9994.000000  \n",
       "unique          NaN          NaN          NaN  \n",
       "top             NaN          NaN          NaN  \n",
       "freq            NaN          NaN          NaN  \n",
       "first           NaN          NaN          NaN  \n",
       "last            NaN          NaN          NaN  \n",
       "mean       3.789574     0.156203    28.656896  \n",
       "std        2.225110     0.206452   234.260108  \n",
       "min        1.000000     0.000000 -6599.978000  \n",
       "25%        2.000000     0.000000     1.728750  \n",
       "50%        3.000000     0.200000     8.666500  \n",
       "75%        5.000000     0.200000    29.364000  \n",
       "max       14.000000     0.800000  8399.976000  \n",
       "\n",
       "[13 rows x 21 columns]"
      ]
     },
     "execution_count": 4,
     "metadata": {},
     "output_type": "execute_result"
    }
   ],
   "source": [
    "# Descriptive statistics are very useful for initial exploration of the variables\n",
    "# By default, only descriptives for the numerical variables are shown\n",
    "# To include the categorical ones, you should specify this with an argument\n",
    "furniture_df.describe(include='all')\n",
    "# Note that categorical variables don't have some types of numerical descriptives\n",
    "# and numerical variables don't have some types of categorical descriptives\n"
   ]
  },
  {
   "cell_type": "code",
   "execution_count": 5,
   "id": "5b6113e0",
   "metadata": {},
   "outputs": [
    {
     "data": {
      "text/html": [
       "<div>\n",
       "<style scoped>\n",
       "    .dataframe tbody tr th:only-of-type {\n",
       "        vertical-align: middle;\n",
       "    }\n",
       "\n",
       "    .dataframe tbody tr th {\n",
       "        vertical-align: top;\n",
       "    }\n",
       "\n",
       "    .dataframe thead th {\n",
       "        text-align: right;\n",
       "    }\n",
       "</style>\n",
       "<table border=\"1\" class=\"dataframe\">\n",
       "  <thead>\n",
       "    <tr style=\"text-align: right;\">\n",
       "      <th></th>\n",
       "      <th>Order ID</th>\n",
       "      <th>Ship Mode</th>\n",
       "      <th>Customer ID</th>\n",
       "      <th>Customer Name</th>\n",
       "      <th>Segment</th>\n",
       "      <th>Country</th>\n",
       "      <th>City</th>\n",
       "      <th>State</th>\n",
       "      <th>Region</th>\n",
       "      <th>Product ID</th>\n",
       "      <th>Category</th>\n",
       "      <th>Sub-Category</th>\n",
       "      <th>Product Name</th>\n",
       "    </tr>\n",
       "  </thead>\n",
       "  <tbody>\n",
       "    <tr>\n",
       "      <th>count</th>\n",
       "      <td>9994</td>\n",
       "      <td>9994</td>\n",
       "      <td>9994</td>\n",
       "      <td>9994</td>\n",
       "      <td>9994</td>\n",
       "      <td>9994</td>\n",
       "      <td>9994</td>\n",
       "      <td>9994</td>\n",
       "      <td>9994</td>\n",
       "      <td>9994</td>\n",
       "      <td>9994</td>\n",
       "      <td>9994</td>\n",
       "      <td>9994</td>\n",
       "    </tr>\n",
       "    <tr>\n",
       "      <th>unique</th>\n",
       "      <td>5009</td>\n",
       "      <td>4</td>\n",
       "      <td>793</td>\n",
       "      <td>793</td>\n",
       "      <td>3</td>\n",
       "      <td>1</td>\n",
       "      <td>531</td>\n",
       "      <td>49</td>\n",
       "      <td>4</td>\n",
       "      <td>1862</td>\n",
       "      <td>3</td>\n",
       "      <td>17</td>\n",
       "      <td>1850</td>\n",
       "    </tr>\n",
       "    <tr>\n",
       "      <th>top</th>\n",
       "      <td>CA-2017-100111</td>\n",
       "      <td>Standard Class</td>\n",
       "      <td>WB-21850</td>\n",
       "      <td>William Brown</td>\n",
       "      <td>Consumer</td>\n",
       "      <td>United States</td>\n",
       "      <td>New York City</td>\n",
       "      <td>California</td>\n",
       "      <td>West</td>\n",
       "      <td>OFF-PA-10001970</td>\n",
       "      <td>Office Supplies</td>\n",
       "      <td>Binders</td>\n",
       "      <td>Staple envelope</td>\n",
       "    </tr>\n",
       "    <tr>\n",
       "      <th>freq</th>\n",
       "      <td>14</td>\n",
       "      <td>5968</td>\n",
       "      <td>37</td>\n",
       "      <td>37</td>\n",
       "      <td>5191</td>\n",
       "      <td>9994</td>\n",
       "      <td>915</td>\n",
       "      <td>2001</td>\n",
       "      <td>3203</td>\n",
       "      <td>19</td>\n",
       "      <td>6026</td>\n",
       "      <td>1523</td>\n",
       "      <td>48</td>\n",
       "    </tr>\n",
       "  </tbody>\n",
       "</table>\n",
       "</div>"
      ],
      "text/plain": [
       "              Order ID       Ship Mode Customer ID  Customer Name   Segment  \\\n",
       "count             9994            9994        9994           9994      9994   \n",
       "unique            5009               4         793            793         3   \n",
       "top     CA-2017-100111  Standard Class    WB-21850  William Brown  Consumer   \n",
       "freq                14            5968          37             37      5191   \n",
       "\n",
       "              Country           City       State Region       Product ID  \\\n",
       "count            9994           9994        9994   9994             9994   \n",
       "unique              1            531          49      4             1862   \n",
       "top     United States  New York City  California   West  OFF-PA-10001970   \n",
       "freq             9994            915        2001   3203               19   \n",
       "\n",
       "               Category Sub-Category     Product Name  \n",
       "count              9994         9994             9994  \n",
       "unique                3           17             1850  \n",
       "top     Office Supplies      Binders  Staple envelope  \n",
       "freq               6026         1523               48  "
      ]
     },
     "execution_count": 5,
     "metadata": {},
     "output_type": "execute_result"
    }
   ],
   "source": [
    "#Checking the str/character type variable\n",
    "furniture_df.describe(include = 'O')"
   ]
  },
  {
   "cell_type": "code",
   "execution_count": 6,
   "id": "6f8fa15a",
   "metadata": {},
   "outputs": [
    {
     "data": {
      "text/html": [
       "<div>\n",
       "<style scoped>\n",
       "    .dataframe tbody tr th:only-of-type {\n",
       "        vertical-align: middle;\n",
       "    }\n",
       "\n",
       "    .dataframe tbody tr th {\n",
       "        vertical-align: top;\n",
       "    }\n",
       "\n",
       "    .dataframe thead th {\n",
       "        text-align: right;\n",
       "    }\n",
       "</style>\n",
       "<table border=\"1\" class=\"dataframe\">\n",
       "  <thead>\n",
       "    <tr style=\"text-align: right;\">\n",
       "      <th></th>\n",
       "      <th>Sales</th>\n",
       "      <th>Discount</th>\n",
       "      <th>Profit</th>\n",
       "    </tr>\n",
       "  </thead>\n",
       "  <tbody>\n",
       "    <tr>\n",
       "      <th>count</th>\n",
       "      <td>9994.000000</td>\n",
       "      <td>9994.000000</td>\n",
       "      <td>9994.000000</td>\n",
       "    </tr>\n",
       "    <tr>\n",
       "      <th>mean</th>\n",
       "      <td>229.858001</td>\n",
       "      <td>0.156203</td>\n",
       "      <td>28.656896</td>\n",
       "    </tr>\n",
       "    <tr>\n",
       "      <th>std</th>\n",
       "      <td>623.245101</td>\n",
       "      <td>0.206452</td>\n",
       "      <td>234.260108</td>\n",
       "    </tr>\n",
       "    <tr>\n",
       "      <th>min</th>\n",
       "      <td>0.444000</td>\n",
       "      <td>0.000000</td>\n",
       "      <td>-6599.978000</td>\n",
       "    </tr>\n",
       "    <tr>\n",
       "      <th>25%</th>\n",
       "      <td>17.280000</td>\n",
       "      <td>0.000000</td>\n",
       "      <td>1.728750</td>\n",
       "    </tr>\n",
       "    <tr>\n",
       "      <th>50%</th>\n",
       "      <td>54.490000</td>\n",
       "      <td>0.200000</td>\n",
       "      <td>8.666500</td>\n",
       "    </tr>\n",
       "    <tr>\n",
       "      <th>75%</th>\n",
       "      <td>209.940000</td>\n",
       "      <td>0.200000</td>\n",
       "      <td>29.364000</td>\n",
       "    </tr>\n",
       "    <tr>\n",
       "      <th>max</th>\n",
       "      <td>22638.480000</td>\n",
       "      <td>0.800000</td>\n",
       "      <td>8399.976000</td>\n",
       "    </tr>\n",
       "  </tbody>\n",
       "</table>\n",
       "</div>"
      ],
      "text/plain": [
       "              Sales     Discount       Profit\n",
       "count   9994.000000  9994.000000  9994.000000\n",
       "mean     229.858001     0.156203    28.656896\n",
       "std      623.245101     0.206452   234.260108\n",
       "min        0.444000     0.000000 -6599.978000\n",
       "25%       17.280000     0.000000     1.728750\n",
       "50%       54.490000     0.200000     8.666500\n",
       "75%      209.940000     0.200000    29.364000\n",
       "max    22638.480000     0.800000  8399.976000"
      ]
     },
     "execution_count": 6,
     "metadata": {},
     "output_type": "execute_result"
    }
   ],
   "source": [
    "#Checking the numeric and continuous variable\n",
    "furniture_df.describe(include = 'float64')"
   ]
  },
  {
   "cell_type": "code",
   "execution_count": 7,
   "id": "88024c08",
   "metadata": {},
   "outputs": [
    {
     "data": {
      "text/html": [
       "<div>\n",
       "<style scoped>\n",
       "    .dataframe tbody tr th:only-of-type {\n",
       "        vertical-align: middle;\n",
       "    }\n",
       "\n",
       "    .dataframe tbody tr th {\n",
       "        vertical-align: top;\n",
       "    }\n",
       "\n",
       "    .dataframe thead th {\n",
       "        text-align: right;\n",
       "    }\n",
       "</style>\n",
       "<table border=\"1\" class=\"dataframe\">\n",
       "  <thead>\n",
       "    <tr style=\"text-align: right;\">\n",
       "      <th></th>\n",
       "      <th>Row ID</th>\n",
       "      <th>Postal Code</th>\n",
       "      <th>Quantity</th>\n",
       "    </tr>\n",
       "  </thead>\n",
       "  <tbody>\n",
       "    <tr>\n",
       "      <th>count</th>\n",
       "      <td>9994.000000</td>\n",
       "      <td>9994.000000</td>\n",
       "      <td>9994.000000</td>\n",
       "    </tr>\n",
       "    <tr>\n",
       "      <th>mean</th>\n",
       "      <td>4997.500000</td>\n",
       "      <td>55190.379428</td>\n",
       "      <td>3.789574</td>\n",
       "    </tr>\n",
       "    <tr>\n",
       "      <th>std</th>\n",
       "      <td>2885.163629</td>\n",
       "      <td>32063.693350</td>\n",
       "      <td>2.225110</td>\n",
       "    </tr>\n",
       "    <tr>\n",
       "      <th>min</th>\n",
       "      <td>1.000000</td>\n",
       "      <td>1040.000000</td>\n",
       "      <td>1.000000</td>\n",
       "    </tr>\n",
       "    <tr>\n",
       "      <th>25%</th>\n",
       "      <td>2499.250000</td>\n",
       "      <td>23223.000000</td>\n",
       "      <td>2.000000</td>\n",
       "    </tr>\n",
       "    <tr>\n",
       "      <th>50%</th>\n",
       "      <td>4997.500000</td>\n",
       "      <td>56430.500000</td>\n",
       "      <td>3.000000</td>\n",
       "    </tr>\n",
       "    <tr>\n",
       "      <th>75%</th>\n",
       "      <td>7495.750000</td>\n",
       "      <td>90008.000000</td>\n",
       "      <td>5.000000</td>\n",
       "    </tr>\n",
       "    <tr>\n",
       "      <th>max</th>\n",
       "      <td>9994.000000</td>\n",
       "      <td>99301.000000</td>\n",
       "      <td>14.000000</td>\n",
       "    </tr>\n",
       "  </tbody>\n",
       "</table>\n",
       "</div>"
      ],
      "text/plain": [
       "            Row ID   Postal Code     Quantity\n",
       "count  9994.000000   9994.000000  9994.000000\n",
       "mean   4997.500000  55190.379428     3.789574\n",
       "std    2885.163629  32063.693350     2.225110\n",
       "min       1.000000   1040.000000     1.000000\n",
       "25%    2499.250000  23223.000000     2.000000\n",
       "50%    4997.500000  56430.500000     3.000000\n",
       "75%    7495.750000  90008.000000     5.000000\n",
       "max    9994.000000  99301.000000    14.000000"
      ]
     },
     "execution_count": 7,
     "metadata": {},
     "output_type": "execute_result"
    }
   ],
   "source": [
    "#Checking the numeric and integer variable\n",
    "furniture_df.describe(include = 'int64')"
   ]
  },
  {
   "cell_type": "code",
   "execution_count": 8,
   "id": "cd900380",
   "metadata": {},
   "outputs": [
    {
     "name": "stdout",
     "output_type": "stream",
     "text": [
      "<class 'pandas.core.frame.DataFrame'>\n",
      "RangeIndex: 9994 entries, 0 to 9993\n",
      "Data columns (total 21 columns):\n",
      " #   Column         Non-Null Count  Dtype         \n",
      "---  ------         --------------  -----         \n",
      " 0   Row ID         9994 non-null   int64         \n",
      " 1   Order ID       9994 non-null   object        \n",
      " 2   Order Date     9994 non-null   datetime64[ns]\n",
      " 3   Ship Date      9994 non-null   datetime64[ns]\n",
      " 4   Ship Mode      9994 non-null   object        \n",
      " 5   Customer ID    9994 non-null   object        \n",
      " 6   Customer Name  9994 non-null   object        \n",
      " 7   Segment        9994 non-null   object        \n",
      " 8   Country        9994 non-null   object        \n",
      " 9   City           9994 non-null   object        \n",
      " 10  State          9994 non-null   object        \n",
      " 11  Postal Code    9994 non-null   int64         \n",
      " 12  Region         9994 non-null   object        \n",
      " 13  Product ID     9994 non-null   object        \n",
      " 14  Category       9994 non-null   object        \n",
      " 15  Sub-Category   9994 non-null   object        \n",
      " 16  Product Name   9994 non-null   object        \n",
      " 17  Sales          9994 non-null   float64       \n",
      " 18  Quantity       9994 non-null   int64         \n",
      " 19  Discount       9994 non-null   float64       \n",
      " 20  Profit         9994 non-null   float64       \n",
      "dtypes: datetime64[ns](2), float64(3), int64(3), object(13)\n",
      "memory usage: 1.6+ MB\n"
     ]
    }
   ],
   "source": [
    "#Info command to have a glance on the data types and the missing values\n",
    "furniture_df.info()"
   ]
  },
  {
   "cell_type": "code",
   "execution_count": 9,
   "id": "0fe5cb26",
   "metadata": {},
   "outputs": [
    {
     "data": {
      "text/html": [
       "<div>\n",
       "<style scoped>\n",
       "    .dataframe tbody tr th:only-of-type {\n",
       "        vertical-align: middle;\n",
       "    }\n",
       "\n",
       "    .dataframe tbody tr th {\n",
       "        vertical-align: top;\n",
       "    }\n",
       "\n",
       "    .dataframe thead th {\n",
       "        text-align: right;\n",
       "    }\n",
       "</style>\n",
       "<table border=\"1\" class=\"dataframe\">\n",
       "  <thead>\n",
       "    <tr style=\"text-align: right;\">\n",
       "      <th></th>\n",
       "      <th>Row ID</th>\n",
       "      <th>Order ID</th>\n",
       "      <th>Order Date</th>\n",
       "      <th>Ship Date</th>\n",
       "      <th>Ship Mode</th>\n",
       "      <th>Customer ID</th>\n",
       "      <th>Customer Name</th>\n",
       "      <th>Segment</th>\n",
       "      <th>Country</th>\n",
       "      <th>City</th>\n",
       "      <th>...</th>\n",
       "      <th>Postal Code</th>\n",
       "      <th>Region</th>\n",
       "      <th>Product ID</th>\n",
       "      <th>Category</th>\n",
       "      <th>Sub-Category</th>\n",
       "      <th>Product Name</th>\n",
       "      <th>Sales</th>\n",
       "      <th>Quantity</th>\n",
       "      <th>Discount</th>\n",
       "      <th>Profit</th>\n",
       "    </tr>\n",
       "  </thead>\n",
       "  <tbody>\n",
       "    <tr>\n",
       "      <th>0</th>\n",
       "      <td>1</td>\n",
       "      <td>CA-2016-152156</td>\n",
       "      <td>2016-11-08</td>\n",
       "      <td>2016-11-11</td>\n",
       "      <td>Second Class</td>\n",
       "      <td>CG-12520</td>\n",
       "      <td>Claire Gute</td>\n",
       "      <td>Consumer</td>\n",
       "      <td>United States</td>\n",
       "      <td>Henderson</td>\n",
       "      <td>...</td>\n",
       "      <td>42420</td>\n",
       "      <td>South</td>\n",
       "      <td>FUR-BO-10001798</td>\n",
       "      <td>Furniture</td>\n",
       "      <td>Bookcases</td>\n",
       "      <td>Bush Somerset Collection Bookcase</td>\n",
       "      <td>261.9600</td>\n",
       "      <td>2</td>\n",
       "      <td>0.00</td>\n",
       "      <td>41.9136</td>\n",
       "    </tr>\n",
       "    <tr>\n",
       "      <th>1</th>\n",
       "      <td>2</td>\n",
       "      <td>CA-2016-152156</td>\n",
       "      <td>2016-11-08</td>\n",
       "      <td>2016-11-11</td>\n",
       "      <td>Second Class</td>\n",
       "      <td>CG-12520</td>\n",
       "      <td>Claire Gute</td>\n",
       "      <td>Consumer</td>\n",
       "      <td>United States</td>\n",
       "      <td>Henderson</td>\n",
       "      <td>...</td>\n",
       "      <td>42420</td>\n",
       "      <td>South</td>\n",
       "      <td>FUR-CH-10000454</td>\n",
       "      <td>Furniture</td>\n",
       "      <td>Chairs</td>\n",
       "      <td>Hon Deluxe Fabric Upholstered Stacking Chairs,...</td>\n",
       "      <td>731.9400</td>\n",
       "      <td>3</td>\n",
       "      <td>0.00</td>\n",
       "      <td>219.5820</td>\n",
       "    </tr>\n",
       "    <tr>\n",
       "      <th>3</th>\n",
       "      <td>4</td>\n",
       "      <td>US-2015-108966</td>\n",
       "      <td>2015-10-11</td>\n",
       "      <td>2015-10-18</td>\n",
       "      <td>Standard Class</td>\n",
       "      <td>SO-20335</td>\n",
       "      <td>Sean O'Donnell</td>\n",
       "      <td>Consumer</td>\n",
       "      <td>United States</td>\n",
       "      <td>Fort Lauderdale</td>\n",
       "      <td>...</td>\n",
       "      <td>33311</td>\n",
       "      <td>South</td>\n",
       "      <td>FUR-TA-10000577</td>\n",
       "      <td>Furniture</td>\n",
       "      <td>Tables</td>\n",
       "      <td>Bretford CR4500 Series Slim Rectangular Table</td>\n",
       "      <td>957.5775</td>\n",
       "      <td>5</td>\n",
       "      <td>0.45</td>\n",
       "      <td>-383.0310</td>\n",
       "    </tr>\n",
       "    <tr>\n",
       "      <th>5</th>\n",
       "      <td>6</td>\n",
       "      <td>CA-2014-115812</td>\n",
       "      <td>2014-06-09</td>\n",
       "      <td>2014-06-14</td>\n",
       "      <td>Standard Class</td>\n",
       "      <td>BH-11710</td>\n",
       "      <td>Brosina Hoffman</td>\n",
       "      <td>Consumer</td>\n",
       "      <td>United States</td>\n",
       "      <td>Los Angeles</td>\n",
       "      <td>...</td>\n",
       "      <td>90032</td>\n",
       "      <td>West</td>\n",
       "      <td>FUR-FU-10001487</td>\n",
       "      <td>Furniture</td>\n",
       "      <td>Furnishings</td>\n",
       "      <td>Eldon Expressions Wood and Plastic Desk Access...</td>\n",
       "      <td>48.8600</td>\n",
       "      <td>7</td>\n",
       "      <td>0.00</td>\n",
       "      <td>14.1694</td>\n",
       "    </tr>\n",
       "    <tr>\n",
       "      <th>10</th>\n",
       "      <td>11</td>\n",
       "      <td>CA-2014-115812</td>\n",
       "      <td>2014-06-09</td>\n",
       "      <td>2014-06-14</td>\n",
       "      <td>Standard Class</td>\n",
       "      <td>BH-11710</td>\n",
       "      <td>Brosina Hoffman</td>\n",
       "      <td>Consumer</td>\n",
       "      <td>United States</td>\n",
       "      <td>Los Angeles</td>\n",
       "      <td>...</td>\n",
       "      <td>90032</td>\n",
       "      <td>West</td>\n",
       "      <td>FUR-TA-10001539</td>\n",
       "      <td>Furniture</td>\n",
       "      <td>Tables</td>\n",
       "      <td>Chromcraft Rectangular Conference Tables</td>\n",
       "      <td>1706.1840</td>\n",
       "      <td>9</td>\n",
       "      <td>0.20</td>\n",
       "      <td>85.3092</td>\n",
       "    </tr>\n",
       "  </tbody>\n",
       "</table>\n",
       "<p>5 rows × 21 columns</p>\n",
       "</div>"
      ],
      "text/plain": [
       "    Row ID        Order ID Order Date  Ship Date       Ship Mode Customer ID  \\\n",
       "0        1  CA-2016-152156 2016-11-08 2016-11-11    Second Class    CG-12520   \n",
       "1        2  CA-2016-152156 2016-11-08 2016-11-11    Second Class    CG-12520   \n",
       "3        4  US-2015-108966 2015-10-11 2015-10-18  Standard Class    SO-20335   \n",
       "5        6  CA-2014-115812 2014-06-09 2014-06-14  Standard Class    BH-11710   \n",
       "10      11  CA-2014-115812 2014-06-09 2014-06-14  Standard Class    BH-11710   \n",
       "\n",
       "      Customer Name   Segment        Country             City  ...  \\\n",
       "0       Claire Gute  Consumer  United States        Henderson  ...   \n",
       "1       Claire Gute  Consumer  United States        Henderson  ...   \n",
       "3    Sean O'Donnell  Consumer  United States  Fort Lauderdale  ...   \n",
       "5   Brosina Hoffman  Consumer  United States      Los Angeles  ...   \n",
       "10  Brosina Hoffman  Consumer  United States      Los Angeles  ...   \n",
       "\n",
       "   Postal Code  Region       Product ID   Category Sub-Category  \\\n",
       "0        42420   South  FUR-BO-10001798  Furniture    Bookcases   \n",
       "1        42420   South  FUR-CH-10000454  Furniture       Chairs   \n",
       "3        33311   South  FUR-TA-10000577  Furniture       Tables   \n",
       "5        90032    West  FUR-FU-10001487  Furniture  Furnishings   \n",
       "10       90032    West  FUR-TA-10001539  Furniture       Tables   \n",
       "\n",
       "                                         Product Name      Sales  Quantity  \\\n",
       "0                   Bush Somerset Collection Bookcase   261.9600         2   \n",
       "1   Hon Deluxe Fabric Upholstered Stacking Chairs,...   731.9400         3   \n",
       "3       Bretford CR4500 Series Slim Rectangular Table   957.5775         5   \n",
       "5   Eldon Expressions Wood and Plastic Desk Access...    48.8600         7   \n",
       "10           Chromcraft Rectangular Conference Tables  1706.1840         9   \n",
       "\n",
       "    Discount    Profit  \n",
       "0       0.00   41.9136  \n",
       "1       0.00  219.5820  \n",
       "3       0.45 -383.0310  \n",
       "5       0.00   14.1694  \n",
       "10      0.20   85.3092  \n",
       "\n",
       "[5 rows x 21 columns]"
      ]
     },
     "execution_count": 9,
     "metadata": {},
     "output_type": "execute_result"
    }
   ],
   "source": [
    "furniture=furniture_df[(furniture_df.Category=='Furniture')]\n",
    "furniture.head()"
   ]
  },
  {
   "cell_type": "code",
   "execution_count": 10,
   "id": "38af4bd5",
   "metadata": {},
   "outputs": [
    {
     "data": {
      "text/plain": [
       "(2121, 21)"
      ]
     },
     "execution_count": 10,
     "metadata": {},
     "output_type": "execute_result"
    }
   ],
   "source": [
    "furniture.shape"
   ]
  },
  {
   "cell_type": "code",
   "execution_count": 11,
   "id": "43d03253",
   "metadata": {},
   "outputs": [
    {
     "data": {
      "text/html": [
       "<div>\n",
       "<style scoped>\n",
       "    .dataframe tbody tr th:only-of-type {\n",
       "        vertical-align: middle;\n",
       "    }\n",
       "\n",
       "    .dataframe tbody tr th {\n",
       "        vertical-align: top;\n",
       "    }\n",
       "\n",
       "    .dataframe thead th {\n",
       "        text-align: right;\n",
       "    }\n",
       "</style>\n",
       "<table border=\"1\" class=\"dataframe\">\n",
       "  <thead>\n",
       "    <tr style=\"text-align: right;\">\n",
       "      <th></th>\n",
       "      <th>index</th>\n",
       "      <th>Row ID</th>\n",
       "      <th>Order ID</th>\n",
       "      <th>Order Date</th>\n",
       "      <th>Ship Date</th>\n",
       "      <th>Ship Mode</th>\n",
       "      <th>Customer ID</th>\n",
       "      <th>Customer Name</th>\n",
       "      <th>Segment</th>\n",
       "      <th>Country</th>\n",
       "      <th>...</th>\n",
       "      <th>Postal Code</th>\n",
       "      <th>Region</th>\n",
       "      <th>Product ID</th>\n",
       "      <th>Category</th>\n",
       "      <th>Sub-Category</th>\n",
       "      <th>Product Name</th>\n",
       "      <th>Sales</th>\n",
       "      <th>Quantity</th>\n",
       "      <th>Discount</th>\n",
       "      <th>Profit</th>\n",
       "    </tr>\n",
       "  </thead>\n",
       "  <tbody>\n",
       "    <tr>\n",
       "      <th>0</th>\n",
       "      <td>7474</td>\n",
       "      <td>7475</td>\n",
       "      <td>CA-2014-167199</td>\n",
       "      <td>2014-01-06</td>\n",
       "      <td>2014-01-10</td>\n",
       "      <td>Standard Class</td>\n",
       "      <td>ME-17320</td>\n",
       "      <td>Maria Etezadi</td>\n",
       "      <td>Home Office</td>\n",
       "      <td>United States</td>\n",
       "      <td>...</td>\n",
       "      <td>42420</td>\n",
       "      <td>South</td>\n",
       "      <td>FUR-CH-10004063</td>\n",
       "      <td>Furniture</td>\n",
       "      <td>Chairs</td>\n",
       "      <td>Global Deluxe High-Back Manager's Chair</td>\n",
       "      <td>2573.820</td>\n",
       "      <td>9</td>\n",
       "      <td>0.0</td>\n",
       "      <td>746.4078</td>\n",
       "    </tr>\n",
       "    <tr>\n",
       "      <th>1</th>\n",
       "      <td>7660</td>\n",
       "      <td>7661</td>\n",
       "      <td>CA-2014-105417</td>\n",
       "      <td>2014-01-07</td>\n",
       "      <td>2014-01-12</td>\n",
       "      <td>Standard Class</td>\n",
       "      <td>VS-21820</td>\n",
       "      <td>Vivek Sundaresam</td>\n",
       "      <td>Consumer</td>\n",
       "      <td>United States</td>\n",
       "      <td>...</td>\n",
       "      <td>77340</td>\n",
       "      <td>Central</td>\n",
       "      <td>FUR-FU-10004864</td>\n",
       "      <td>Furniture</td>\n",
       "      <td>Furnishings</td>\n",
       "      <td>Howard Miller 14-1/2\" Diameter Chrome Round Wa...</td>\n",
       "      <td>76.728</td>\n",
       "      <td>3</td>\n",
       "      <td>0.6</td>\n",
       "      <td>-53.7096</td>\n",
       "    </tr>\n",
       "    <tr>\n",
       "      <th>2</th>\n",
       "      <td>866</td>\n",
       "      <td>867</td>\n",
       "      <td>CA-2014-149020</td>\n",
       "      <td>2014-01-10</td>\n",
       "      <td>2014-01-15</td>\n",
       "      <td>Standard Class</td>\n",
       "      <td>AJ-10780</td>\n",
       "      <td>Anthony Jacobs</td>\n",
       "      <td>Corporate</td>\n",
       "      <td>United States</td>\n",
       "      <td>...</td>\n",
       "      <td>22153</td>\n",
       "      <td>South</td>\n",
       "      <td>FUR-FU-10000965</td>\n",
       "      <td>Furniture</td>\n",
       "      <td>Furnishings</td>\n",
       "      <td>Howard Miller 11-1/2\" Diameter Ridgewood Wall ...</td>\n",
       "      <td>51.940</td>\n",
       "      <td>1</td>\n",
       "      <td>0.0</td>\n",
       "      <td>21.2954</td>\n",
       "    </tr>\n",
       "  </tbody>\n",
       "</table>\n",
       "<p>3 rows × 22 columns</p>\n",
       "</div>"
      ],
      "text/plain": [
       "   index  Row ID        Order ID Order Date  Ship Date       Ship Mode  \\\n",
       "0   7474    7475  CA-2014-167199 2014-01-06 2014-01-10  Standard Class   \n",
       "1   7660    7661  CA-2014-105417 2014-01-07 2014-01-12  Standard Class   \n",
       "2    866     867  CA-2014-149020 2014-01-10 2014-01-15  Standard Class   \n",
       "\n",
       "  Customer ID     Customer Name      Segment        Country  ... Postal Code  \\\n",
       "0    ME-17320     Maria Etezadi  Home Office  United States  ...       42420   \n",
       "1    VS-21820  Vivek Sundaresam     Consumer  United States  ...       77340   \n",
       "2    AJ-10780    Anthony Jacobs    Corporate  United States  ...       22153   \n",
       "\n",
       "    Region       Product ID   Category Sub-Category  \\\n",
       "0    South  FUR-CH-10004063  Furniture       Chairs   \n",
       "1  Central  FUR-FU-10004864  Furniture  Furnishings   \n",
       "2    South  FUR-FU-10000965  Furniture  Furnishings   \n",
       "\n",
       "                                        Product Name     Sales Quantity  \\\n",
       "0            Global Deluxe High-Back Manager's Chair  2573.820        9   \n",
       "1  Howard Miller 14-1/2\" Diameter Chrome Round Wa...    76.728        3   \n",
       "2  Howard Miller 11-1/2\" Diameter Ridgewood Wall ...    51.940        1   \n",
       "\n",
       "   Discount    Profit  \n",
       "0       0.0  746.4078  \n",
       "1       0.6  -53.7096  \n",
       "2       0.0   21.2954  \n",
       "\n",
       "[3 rows x 22 columns]"
      ]
     },
     "execution_count": 11,
     "metadata": {},
     "output_type": "execute_result"
    }
   ],
   "source": [
    "data=furniture.sort_values('Order Date').reset_index()\n",
    "data.head(3)"
   ]
  },
  {
   "cell_type": "code",
   "execution_count": 12,
   "id": "74a9d9f3",
   "metadata": {},
   "outputs": [
    {
     "data": {
      "text/plain": [
       "(Timestamp('2014-01-06 00:00:00'), Timestamp('2017-12-30 00:00:00'))"
      ]
     },
     "execution_count": 12,
     "metadata": {},
     "output_type": "execute_result"
    }
   ],
   "source": [
    "#Check the time spam\n",
    "data['Order Date'].min(), data['Order Date'].max()"
   ]
  },
  {
   "cell_type": "markdown",
   "id": "325ef1f9",
   "metadata": {},
   "source": [
    "#### checking null values"
   ]
  },
  {
   "cell_type": "code",
   "execution_count": 13,
   "id": "55780e4a",
   "metadata": {},
   "outputs": [
    {
     "data": {
      "text/plain": [
       "index            0\n",
       "Row ID           0\n",
       "Order ID         0\n",
       "Order Date       0\n",
       "Ship Date        0\n",
       "Ship Mode        0\n",
       "Customer ID      0\n",
       "Customer Name    0\n",
       "Segment          0\n",
       "Country          0\n",
       "City             0\n",
       "State            0\n",
       "Postal Code      0\n",
       "Region           0\n",
       "Product ID       0\n",
       "Category         0\n",
       "Sub-Category     0\n",
       "Product Name     0\n",
       "Sales            0\n",
       "Quantity         0\n",
       "Discount         0\n",
       "Profit           0\n",
       "dtype: int64"
      ]
     },
     "execution_count": 13,
     "metadata": {},
     "output_type": "execute_result"
    }
   ],
   "source": [
    "# data.isnull() # shows a df with the information whether a data point is null \n",
    "# Since True = the data point is missing, while False = the data point is not missing, we can sum them\n",
    "# This will give us the total number of missing values feature-wise\n",
    "data.isnull().sum()"
   ]
  },
  {
   "cell_type": "code",
   "execution_count": 14,
   "id": "809701b5",
   "metadata": {},
   "outputs": [],
   "source": [
    "#setting oder date as index number\n",
    "data.set_index(\"Order Date\", inplace = True)\n"
   ]
  },
  {
   "cell_type": "code",
   "execution_count": 44,
   "id": "2c13e199",
   "metadata": {},
   "outputs": [
    {
     "data": {
      "text/plain": [
       "Order Date\n",
       "2017-12-29     258.750\n",
       "2017-12-29    1207.840\n",
       "2017-12-29     101.120\n",
       "2017-12-29     300.980\n",
       "2017-12-30     323.136\n",
       "Name: Sales, dtype: float64"
      ]
     },
     "execution_count": 44,
     "metadata": {},
     "output_type": "execute_result"
    }
   ],
   "source": [
    "sales=data['Sales']\n",
    "sales.tail()"
   ]
  },
  {
   "cell_type": "code",
   "execution_count": 16,
   "id": "c0d398ef",
   "metadata": {},
   "outputs": [],
   "source": [
    "energy=sales.resample('M').mean()"
   ]
  },
  {
   "cell_type": "code",
   "execution_count": 17,
   "id": "71444299",
   "metadata": {},
   "outputs": [
    {
     "data": {
      "text/plain": [
       "<AxesSubplot:xlabel='Order Date'>"
      ]
     },
     "execution_count": 17,
     "metadata": {},
     "output_type": "execute_result"
    },
    {
     "data": {
      "image/png": "[encoded data removed]",
      "text/plain": [
       "<Figure size 720x576 with 1 Axes>"
      ]
     },
     "metadata": {
      "needs_background": "light"
     },
     "output_type": "display_data"
    }
   ],
   "source": [
    "energy.plot(figsize=(10,8))"
   ]
  },
  {
   "cell_type": "markdown",
   "id": "fbcda096",
   "metadata": {},
   "source": [
    "###### Shows the 4 years sale of furniture"
   ]
  },
  {
   "cell_type": "code",
   "execution_count": 18,
   "id": "bafc098c",
   "metadata": {},
   "outputs": [
    {
     "data": {
      "image/png": "[encoded data removed]",
      "text/plain": [
       "<Figure size 1440x864 with 4 Axes>"
      ]
     },
     "metadata": {
      "needs_background": "light"
     },
     "output_type": "display_data"
    }
   ],
   "source": [
    "# different components of the Time series data\n",
    "# period = 12 since the data is monthly\n",
    "\n",
    "#decomposition=seasonal_decompose(closeprice, period=12)\n",
    "decomposition=seasonal_decompose(np.asarray(energy), period=12)\n",
    "d_trend=decomposition.trend\n",
    "d_seasonal=decomposition.seasonal\n",
    "d_residual=decomposition.resid\n",
    "\n",
    "# plotting all the 4 graphs\n",
    "fig,ax = plt.subplots(4,1,figsize=(20,12))\n",
    "\n",
    "plt.subplot(411)\n",
    "plt.plot(energy,label='Furniture Data - as it is')\n",
    "plt.legend(loc='best')\n",
    "\n",
    "plt.subplot(412)\n",
    "plt.plot(d_trend,label='Trend')\n",
    "plt.legend(loc='best')\n",
    "\n",
    "plt.subplot(413)\n",
    "plt.plot(d_seasonal,label='Seasonal')\n",
    "plt.legend(loc='best')\n",
    "\n",
    "plt.subplot(414)\n",
    "plt.plot(d_residual,label='Residual')\n",
    "plt.legend(loc='best')\n",
    "\n",
    "plt.tight_layout()"
   ]
  },
  {
   "cell_type": "markdown",
   "id": "6f215e43",
   "metadata": {},
   "source": [
    "##### As we can clearly see that in the given data decreasing trend ansd seasonality is there."
   ]
  },
  {
   "cell_type": "markdown",
   "id": "6ffedc21",
   "metadata": {},
   "source": [
    "## Check for stationarity"
   ]
  },
  {
   "cell_type": "code",
   "execution_count": 19,
   "id": "b4845a50",
   "metadata": {},
   "outputs": [],
   "source": [
    "# dickey-fuller test for stationarity\n",
    "def checkStationarity(data):\n",
    "    pvalue = adfuller(data)[1]\n",
    "    '''\n",
    "    output:-> \n",
    "    1) test statistic, \n",
    "    2) p-value, \n",
    "    3) number of lags, \n",
    "    4) total observations\n",
    "    \n",
    "    '''\n",
    "    \n",
    "    if(pvalue>0.05):\n",
    "        msg = 'p-value={}. Data is not stationary'.format(pvalue)\n",
    "    else:\n",
    "        msg='p-value={}. Data is stationary'.format(pvalue)\n",
    "        \n",
    "    return(msg)"
   ]
  },
  {
   "cell_type": "code",
   "execution_count": 20,
   "id": "12681891",
   "metadata": {},
   "outputs": [
    {
     "data": {
      "text/plain": [
       "'p-value=0.0. Data is stationary'"
      ]
     },
     "execution_count": 20,
     "metadata": {},
     "output_type": "execute_result"
    }
   ],
   "source": [
    "# check the data for stationarity\n",
    "ret=checkStationarity(sales); \n",
    "ret"
   ]
  },
  {
   "cell_type": "markdown",
   "id": "19f432d5",
   "metadata": {},
   "source": [
    "## Plot ACF and PACF"
   ]
  },
  {
   "cell_type": "code",
   "execution_count": 21,
   "id": "d896bc1a",
   "metadata": {},
   "outputs": [
    {
     "data": {
      "image/png": "[encoded data removed]",
      "text/plain": [
       "<Figure size 432x288 with 2 Axes>"
      ]
     },
     "metadata": {
      "needs_background": "light"
     },
     "output_type": "display_data"
    }
   ],
   "source": [
    "# p -> PACF (partial autocorrelation graph)\n",
    "# q -> ACF (auto correlation graph)\n",
    "# d -> differential level (from top)\n",
    "\n",
    "# since, lags cannot be determined at the beginning, set a random number initially\n",
    "lag_acf = acf(sales.dropna(), nlags=40)\n",
    "lag_pacf = pacf(sales.dropna(), nlags=40, method='ols')\n",
    "\n",
    "# plot PACF (p)\n",
    "plt.subplot(121)\n",
    "plt.plot(lag_pacf)\n",
    "plt.axhline(y=0,linestyle='--',color=\"gray\")\n",
    "plt.axhline(y=-1.96/np.sqrt(len(sales)),linestyle='--',color=\"gray\")\n",
    "plt.axhline(y=1.96/np.sqrt(len(sales)),linestyle='--',color=\"gray\")\n",
    "plt.title(\"Partial AutoCorrelation\")\n",
    "\n",
    "# plot ACF (q)\n",
    "plt.subplot(122)\n",
    "plt.plot(lag_acf)\n",
    "plt.axhline(y=0,linestyle='--',color=\"gray\")\n",
    "plt.axhline(y=-1.96/np.sqrt(len(sales)),linestyle='--',color=\"gray\")\n",
    "plt.axhline(y=1.96/np.sqrt(len(sales)),linestyle='--',color=\"gray\")\n",
    "plt.title(\"AutoCorrelation\")\n",
    "\n",
    "plt.tight_layout()"
   ]
  },
  {
   "cell_type": "code",
   "execution_count": 22,
   "id": "f268cde1",
   "metadata": {},
   "outputs": [
    {
     "data": {
      "image/png": "[encoded data removed]",
      "text/plain": [
       "<Figure size 576x432 with 2 Axes>"
      ]
     },
     "metadata": {
      "needs_background": "light"
     },
     "output_type": "display_data"
    }
   ],
   "source": [
    "fig = plt.figure(figsize=(8, 6))\n",
    "\n",
    "# Show ACF\n",
    "ax1 = fig.add_subplot(211)\n",
    "sm.graphics.tsa.plot_acf(energy, lags=20, ax=ax1)\n",
    "\n",
    "# Show PACF\n",
    "ax2 = fig.add_subplot(212)\n",
    "sm.graphics.tsa.plot_pacf(energy, lags=20, ax=ax2)\n",
    "\n",
    "plt.tight_layout()"
   ]
  },
  {
   "cell_type": "code",
   "execution_count": 23,
   "id": "46c607e7",
   "metadata": {},
   "outputs": [
    {
     "data": {
      "text/plain": [
       "(48,)"
      ]
     },
     "execution_count": 23,
     "metadata": {},
     "output_type": "execute_result"
    }
   ],
   "source": [
    "energy.shape"
   ]
  },
  {
   "cell_type": "code",
   "execution_count": 24,
   "id": "7ee7c24d",
   "metadata": {},
   "outputs": [
    {
     "name": "stdout",
     "output_type": "stream",
     "text": [
      "train = 40, test = 8\n"
     ]
    }
   ],
   "source": [
    "# split the data into train and test \n",
    "# total 48 months are there so I choose accordingly\n",
    "train = energy.iloc[:40]\n",
    "test = energy.iloc[40:]\n",
    "print(\"train = {}, test = {}\".format(len(train), len(test)))"
   ]
  },
  {
   "cell_type": "markdown",
   "id": "aba25c53",
   "metadata": {},
   "source": [
    "### Use ARMA for selection of p, d, q"
   ]
  },
  {
   "cell_type": "code",
   "execution_count": 25,
   "id": "43ba09e3",
   "metadata": {},
   "outputs": [
    {
     "name": "stdout",
     "output_type": "stream",
     "text": [
      "                               SARIMAX Results                                \n",
      "==============================================================================\n",
      "Dep. Variable:                  Sales   No. Observations:                    8\n",
      "Model:                 ARIMA(1, 0, 0)   Log Likelihood                 -40.786\n",
      "Date:                Fri, 25 Nov 2022   AIC                             87.571\n",
      "Time:                        22:42:14   BIC                             87.810\n",
      "Sample:                    05-31-2017   HQIC                            85.964\n",
      "                         - 12-31-2017                                         \n",
      "Covariance Type:                  opg                                         \n",
      "==============================================================================\n",
      "                 coef    std err          z      P>|z|      [0.025      0.975]\n",
      "------------------------------------------------------------------------------\n",
      "const        332.8954     14.479     22.991      0.000     304.517     361.274\n",
      "ar.L1         -0.6118      0.473     -1.293      0.196      -1.539       0.316\n",
      "sigma2      1480.1926    821.510      1.802      0.072    -129.937    3090.322\n",
      "===================================================================================\n",
      "Ljung-Box (L1) (Q):                   1.54   Jarque-Bera (JB):                 0.58\n",
      "Prob(Q):                              0.22   Prob(JB):                         0.75\n",
      "Heteroskedasticity (H):               0.13   Skew:                            -0.66\n",
      "Prob(H) (two-sided):                  0.13   Kurtosis:                         3.08\n",
      "===================================================================================\n",
      "\n",
      "Warnings:\n",
      "[1] Covariance matrix calculated using the outer product of gradients (complex-step).\n"
     ]
    }
   ],
   "source": [
    "from statsmodels.tsa.arima_model import ARMA\n",
    "# With p=1\n",
    "ar_m1 = ARIMA(test, order = (1,0,0))\n",
    "m1 = ar_m1.fit()\n",
    "print(m1.summary())"
   ]
  },
  {
   "cell_type": "code",
   "execution_count": 26,
   "id": "ff160084",
   "metadata": {},
   "outputs": [
    {
     "name": "stdout",
     "output_type": "stream",
     "text": [
      "                               SARIMAX Results                                \n",
      "==============================================================================\n",
      "Dep. Variable:                  Sales   No. Observations:                    8\n",
      "Model:                 ARIMA(2, 0, 0)   Log Likelihood                 -39.763\n",
      "Date:                Fri, 25 Nov 2022   AIC                             87.526\n",
      "Time:                        22:42:14   BIC                             87.843\n",
      "Sample:                    05-31-2017   HQIC                            85.382\n",
      "                         - 12-31-2017                                         \n",
      "Covariance Type:                  opg                                         \n",
      "==============================================================================\n",
      "                 coef    std err          z      P>|z|      [0.025      0.975]\n",
      "------------------------------------------------------------------------------\n",
      "const        331.9719      8.124     40.861      0.000     316.048     347.895\n",
      "ar.L1         -0.9145      0.757     -1.207      0.227      -2.399       0.570\n",
      "ar.L2         -0.4646      0.504     -0.922      0.357      -1.452       0.523\n",
      "sigma2      1075.1070   1270.373      0.846      0.397   -1414.779    3564.993\n",
      "===================================================================================\n",
      "Ljung-Box (L1) (Q):                   0.10   Jarque-Bera (JB):                 1.91\n",
      "Prob(Q):                              0.75   Prob(JB):                         0.39\n",
      "Heteroskedasticity (H):               0.22   Skew:                            -1.18\n",
      "Prob(H) (two-sided):                  0.25   Kurtosis:                         3.44\n",
      "===================================================================================\n",
      "\n",
      "Warnings:\n",
      "[1] Covariance matrix calculated using the outer product of gradients (complex-step).\n"
     ]
    }
   ],
   "source": [
    "# With p=2\n",
    "ar_m2 = ARIMA(test, order = (2,0,0))\n",
    "m2 = ar_m2.fit()\n",
    "print(m2.summary())"
   ]
  },
  {
   "cell_type": "code",
   "execution_count": 27,
   "id": "54504a4b",
   "metadata": {},
   "outputs": [
    {
     "name": "stdout",
     "output_type": "stream",
     "text": [
      "Order Date\n",
      "2017-05-31    331.971861\n",
      "2017-06-30    339.475658\n",
      "2017-07-31    300.295177\n",
      "2017-08-31    408.875868\n",
      "2017-09-30    322.157047\n",
      "2017-10-31    286.005978\n",
      "2017-11-30    345.432711\n",
      "2017-12-31    304.286857\n",
      "Freq: M, Name: predicted_mean, dtype: float64\n"
     ]
    }
   ],
   "source": [
    "# predictions\n",
    "predictions = m2.predict(0,len(test)-1)\n",
    "print(predictions)"
   ]
  },
  {
   "cell_type": "code",
   "execution_count": 28,
   "id": "be4764ba",
   "metadata": {},
   "outputs": [
    {
     "name": "stdout",
     "output_type": "stream",
     "text": [
      "       actual   predicted        err\n",
      "0  319.953928  331.971861 -12.017933\n",
      "1  372.717386  339.475658  33.241728\n",
      "2  227.173500  300.295177 -73.121677\n",
      "3  395.945487  408.875868 -12.930381\n",
      "4  349.737422  322.157047  27.580375\n",
      "5  308.226313  286.005978  22.220335\n",
      "6  374.310253  345.432711  28.877541\n",
      "7  296.296857  304.286857  -7.990001\n"
     ]
    }
   ],
   "source": [
    "# actual vs predicted values\n",
    "# print(\"test = {}, predicted = {}\".format(len(test), len(predictions) ))\n",
    "actual = []; pred = []\n",
    "\n",
    "for i in range(len(predictions)):\n",
    "    actual.append(test[i])\n",
    "    pred.append(predictions[i])\n",
    "\n",
    "df_res1 = pd.DataFrame({'actual':actual, 'predicted':pred})\n",
    "df_res1['err'] = df_res1.actual - df_res1.predicted\n",
    "print(df_res1)"
   ]
  },
  {
   "cell_type": "code",
   "execution_count": 29,
   "id": "c2705929",
   "metadata": {},
   "outputs": [
    {
     "name": "stdout",
     "output_type": "stream",
     "text": [
      "Fail-to-Reject H0. Good model\n"
     ]
    }
   ],
   "source": [
    "# LJung-Box test\n",
    "pvalue = sm.stats.acorr_ljungbox(m2.resid,lags=[1],return_df=True)['lb_pvalue'].values\n",
    "if pvalue < 0.05:\n",
    "    print(\"Reject H0. Bad model\")\n",
    "else:\n",
    "    print(\"Fail-to-Reject H0. Good model\")"
   ]
  },
  {
   "cell_type": "code",
   "execution_count": 30,
   "id": "c34cd223",
   "metadata": {},
   "outputs": [
    {
     "name": "stdout",
     "output_type": "stream",
     "text": [
      "ARIMA Model. Order=(2,0,0)\n",
      "\tMSE = 1114.448813473748\n",
      "\tRMSE = 33.383361326770974\n"
     ]
    }
   ],
   "source": [
    "# MSE\n",
    "p=2; q=0;d=0\n",
    "msg1 = 'ARIMA Model. Order=(' + str(p) + ',' + str(d) + ',' + str(q) + ')'\n",
    "mse1 = mean_squared_error(df_res1.actual, df_res1.predicted)\n",
    "print(msg1 + \"\\n\\tMSE = {}\\n\\tRMSE = {}\".format(mse1,np.sqrt(mse1)))"
   ]
  },
  {
   "cell_type": "code",
   "execution_count": 31,
   "id": "bd927392",
   "metadata": {},
   "outputs": [
    {
     "data": {
      "text/plain": [
       "Text(0.5, 1.0, 'ARIMA Model. Order=(2,0,0)')"
      ]
     },
     "execution_count": 31,
     "metadata": {},
     "output_type": "execute_result"
    },
    {
     "data": {
      "image/png": "[encoded data removed]",
      "text/plain": [
       "<Figure size 720x576 with 1 Axes>"
      ]
     },
     "metadata": {
      "needs_background": "light"
     },
     "output_type": "display_data"
    }
   ],
   "source": [
    "df_res1.actual.plot(figsize=(10,8),legend=True)\n",
    "df_res1.predicted.plot(legend=True)\n",
    "plt.title(msg1)"
   ]
  },
  {
   "cell_type": "markdown",
   "id": "6930b1a9",
   "metadata": {},
   "source": [
    "## Use  ARIMA for selection of p, d, q"
   ]
  },
  {
   "cell_type": "code",
   "execution_count": 32,
   "id": "980d0dd5",
   "metadata": {},
   "outputs": [
    {
     "name": "stdout",
     "output_type": "stream",
     "text": [
      "                               SARIMAX Results                                \n",
      "==============================================================================\n",
      "Dep. Variable:                  Sales   No. Observations:                   40\n",
      "Model:                 ARIMA(1, 1, 1)   Log Likelihood                -234.795\n",
      "Date:                Fri, 25 Nov 2022   AIC                            475.591\n",
      "Time:                        22:42:15   BIC                            480.581\n",
      "Sample:                    01-31-2014   HQIC                           477.381\n",
      "                         - 04-30-2017                                         \n",
      "Covariance Type:                  opg                                         \n",
      "==============================================================================\n",
      "                 coef    std err          z      P>|z|      [0.025      0.975]\n",
      "------------------------------------------------------------------------------\n",
      "ar.L1         -0.0488      0.248     -0.196      0.844      -0.535       0.438\n",
      "ma.L1         -0.9010      0.197     -4.570      0.000      -1.287      -0.515\n",
      "sigma2      9484.5824   1152.066      8.233      0.000    7226.575    1.17e+04\n",
      "===================================================================================\n",
      "Ljung-Box (L1) (Q):                   0.01   Jarque-Bera (JB):               109.05\n",
      "Prob(Q):                              0.92   Prob(JB):                         0.00\n",
      "Heteroskedasticity (H):               0.29   Skew:                             2.04\n",
      "Prob(H) (two-sided):                  0.03   Kurtosis:                        10.10\n",
      "===================================================================================\n",
      "\n",
      "Warnings:\n",
      "[1] Covariance matrix calculated using the outer product of gradients (complex-step).\n"
     ]
    }
   ],
   "source": [
    "# start with initial values for p and q\n",
    "p=1; q=1;d=1\n",
    "m3 = ARIMA(train,order=(p,1,q)).fit()\n",
    "print(m3.summary())"
   ]
  },
  {
   "cell_type": "code",
   "execution_count": 33,
   "id": "e1db51ef",
   "metadata": {},
   "outputs": [
    {
     "name": "stdout",
     "output_type": "stream",
     "text": [
      "start = 40, end = 47\n",
      "2017-05-31    326.521223\n",
      "2017-06-30    320.647926\n",
      "2017-07-31    320.934252\n",
      "2017-08-31    320.920293\n",
      "2017-09-30    320.920974\n",
      "2017-10-31    320.920941\n",
      "2017-11-30    320.920942\n",
      "2017-12-31    320.920942\n",
      "Freq: M, Name: predicted_mean, dtype: float64\n"
     ]
    }
   ],
   "source": [
    " #predictions\n",
    "start = len(train) \n",
    "end = len(train) + len(test) - 1\n",
    "\n",
    "print('start = {}, end = {}'.format(start,end))\n",
    "\n",
    "predictions = m3.predict(start,end,typ='levels')\n",
    "print(predictions)"
   ]
  },
  {
   "cell_type": "code",
   "execution_count": 34,
   "id": "d047e065",
   "metadata": {
    "scrolled": true
   },
   "outputs": [
    {
     "name": "stdout",
     "output_type": "stream",
     "text": [
      "       actual   predicted        err\n",
      "0  319.953928  326.521223  -6.567294\n",
      "1  372.717386  320.647926  52.069460\n",
      "2  227.173500  320.934252 -93.760752\n",
      "3  395.945487  320.920293  75.025194\n",
      "4  349.737422  320.920974  28.816448\n",
      "5  308.226313  320.920941 -12.694628\n",
      "6  374.310253  320.920942  53.389310\n",
      "7  296.296857  320.920942 -24.624086\n"
     ]
    }
   ],
   "source": [
    "actual = []; pred = []\n",
    "\n",
    "for i in range(len(predictions)):\n",
    "    actual.append(test[i])\n",
    "    pred.append(predictions[i])\n",
    "\n",
    "df_res3 = pd.DataFrame({'actual':actual, 'predicted':pred})\n",
    "df_res3['err'] = df_res3.actual - df_res3.predicted\n",
    "print(df_res3)"
   ]
  },
  {
   "cell_type": "code",
   "execution_count": 35,
   "id": "7ba05fb1",
   "metadata": {},
   "outputs": [
    {
     "name": "stdout",
     "output_type": "stream",
     "text": [
      "Fail-to-Reject H0. Good model\n"
     ]
    }
   ],
   "source": [
    "# LJung-Box test\n",
    "pvalue = sm.stats.acorr_ljungbox(m3.resid,lags=[1],return_df=True)['lb_pvalue'].values\n",
    "if pvalue < 0.05:\n",
    "    print(\"Reject H0. Bad model\")\n",
    "else:\n",
    "    print(\"Fail-to-Reject H0. Good model\")"
   ]
  },
  {
   "cell_type": "code",
   "execution_count": 36,
   "id": "c552b1eb",
   "metadata": {},
   "outputs": [
    {
     "name": "stdout",
     "output_type": "stream",
     "text": [
      "ARIMA Model. Order=(1,1,1)\n",
      "\tMSE = 2702.8152034230134\n",
      "\tRMSE = 51.988606477025456\n"
     ]
    }
   ],
   "source": [
    "# MSE\n",
    "msg3 = 'ARIMA Model. Order=(' + str(p) + ',' + str(d) + ',' + str(q) + ')'\n",
    "mse3 = mean_squared_error(df_res3.actual, df_res3.predicted)\n",
    "print(msg3 + \"\\n\\tMSE = {}\\n\\tRMSE = {}\".format(mse3,np.sqrt(mse3)))"
   ]
  },
  {
   "cell_type": "code",
   "execution_count": 37,
   "id": "235ae316",
   "metadata": {},
   "outputs": [
    {
     "data": {
      "text/plain": [
       "Text(0.5, 1.0, 'ARIMA Model. Order=(1,1,1)')"
      ]
     },
     "execution_count": 37,
     "metadata": {},
     "output_type": "execute_result"
    },
    {
     "data": {
      "image/png": "[encoded data removed]",
      "text/plain": [
       "<Figure size 720x576 with 1 Axes>"
      ]
     },
     "metadata": {
      "needs_background": "light"
     },
     "output_type": "display_data"
    }
   ],
   "source": [
    "df_res3.actual.plot(figsize=(10,8),legend=True)\n",
    "df_res3.predicted.plot(legend=True)\n",
    "plt.title(msg3)"
   ]
  },
  {
   "cell_type": "markdown",
   "id": "92725a49",
   "metadata": {},
   "source": [
    "###### Orange line shows the prediction of the test data"
   ]
  },
  {
   "cell_type": "markdown",
   "id": "a1f0d129",
   "metadata": {},
   "source": [
    "## Build the SARIMA model."
   ]
  },
  {
   "cell_type": "code",
   "execution_count": 38,
   "id": "67c324ee",
   "metadata": {},
   "outputs": [
    {
     "data": {
      "image/png": "[encoded data removed]",
      "text/plain": [
       "<Figure size 864x432 with 2 Axes>"
      ]
     },
     "metadata": {
      "needs_background": "light"
     },
     "output_type": "display_data"
    }
   ],
   "source": [
    "# ACF and PACF plots\n",
    "ROWS = 1; COLS = 2\n",
    "fig,ax = plt.subplots(ROWS,COLS,figsize=(12,6))\n",
    "\n",
    "plot_acf(sales[30:], lags=40, ax=ax[0]);\n",
    "plt.title(\"Auto Correlation\")\n",
    "\n",
    "plot_pacf(sales[30:], lags=40, ax=ax[1]);\n",
    "plt.title(\"Partial Auto Correlation\")\n",
    "\n",
    "plt.show()"
   ]
  },
  {
   "cell_type": "code",
   "execution_count": 39,
   "id": "809dec03",
   "metadata": {},
   "outputs": [
    {
     "name": "stdout",
     "output_type": "stream",
     "text": [
      "                                     SARIMAX Results                                      \n",
      "==========================================================================================\n",
      "Dep. Variable:                              Sales   No. Observations:                   40\n",
      "Model:             SARIMAX(1, 0, 1)x(1, 0, 1, 12)   Log Likelihood                -242.045\n",
      "Date:                            Fri, 25 Nov 2022   AIC                            494.089\n",
      "Time:                                    22:42:16   BIC                            502.533\n",
      "Sample:                                01-31-2014   HQIC                           497.142\n",
      "                                     - 04-30-2017                                         \n",
      "Covariance Type:                              opg                                         \n",
      "==============================================================================\n",
      "                 coef    std err          z      P>|z|      [0.025      0.975]\n",
      "------------------------------------------------------------------------------\n",
      "ar.L1          0.9990      0.117      8.547      0.000       0.770       1.228\n",
      "ma.L1         -0.9072      0.241     -3.771      0.000      -1.379      -0.436\n",
      "ar.S.L12       0.9772      8.080      0.121      0.904     -14.860      16.815\n",
      "ma.S.L12      -0.9570      9.844     -0.097      0.923     -20.252      18.338\n",
      "sigma2      9425.3174    1.5e+04      0.627      0.531   -2.01e+04    3.89e+04\n",
      "===================================================================================\n",
      "Ljung-Box (L1) (Q):                   0.09   Jarque-Bera (JB):                96.35\n",
      "Prob(Q):                              0.76   Prob(JB):                         0.00\n",
      "Heteroskedasticity (H):               0.29   Skew:                             1.93\n",
      "Prob(H) (two-sided):                  0.03   Kurtosis:                         9.55\n",
      "===================================================================================\n",
      "\n",
      "Warnings:\n",
      "[1] Covariance matrix calculated using the outer product of gradients (complex-step).\n"
     ]
    }
   ],
   "source": [
    "p=1; q=1; d=0\n",
    "m4 = sm.tsa.statespace.SARIMAX(train,order=(p,d,q),seasonal_order=(p,d,q,12)).fit()\n",
    "print(m4.summary())"
   ]
  },
  {
   "cell_type": "code",
   "execution_count": 40,
   "id": "1e8faca8",
   "metadata": {},
   "outputs": [
    {
     "name": "stdout",
     "output_type": "stream",
     "text": [
      "start = 40, end = 47\n",
      "2017-05-31    317.823718\n",
      "2017-06-30    321.066612\n",
      "2017-07-31    319.022940\n",
      "2017-08-31    319.868028\n",
      "2017-09-30    323.766573\n",
      "2017-10-31    317.637373\n",
      "2017-11-30    322.351658\n",
      "2017-12-31    324.129086\n",
      "Freq: M, Name: predicted_mean, dtype: float64\n"
     ]
    }
   ],
   "source": [
    " #predictions\n",
    "start = len(train) \n",
    "end = len(train) + len(test) - 1\n",
    "\n",
    "print('start = {}, end = {}'.format(start,end))\n",
    "\n",
    "predictions = m4.predict(start,end,typ='levels')\n",
    "print(predictions)"
   ]
  },
  {
   "cell_type": "code",
   "execution_count": 41,
   "id": "ad2e4bac",
   "metadata": {},
   "outputs": [
    {
     "name": "stdout",
     "output_type": "stream",
     "text": [
      "start = 40, end = 47\n"
     ]
    },
    {
     "data": {
      "text/html": [
       "<div>\n",
       "<style scoped>\n",
       "    .dataframe tbody tr th:only-of-type {\n",
       "        vertical-align: middle;\n",
       "    }\n",
       "\n",
       "    .dataframe tbody tr th {\n",
       "        vertical-align: top;\n",
       "    }\n",
       "\n",
       "    .dataframe thead th {\n",
       "        text-align: right;\n",
       "    }\n",
       "</style>\n",
       "<table border=\"1\" class=\"dataframe\">\n",
       "  <thead>\n",
       "    <tr style=\"text-align: right;\">\n",
       "      <th></th>\n",
       "      <th>actual</th>\n",
       "      <th>predicted</th>\n",
       "      <th>err</th>\n",
       "    </tr>\n",
       "  </thead>\n",
       "  <tbody>\n",
       "    <tr>\n",
       "      <th>2017-05-31</th>\n",
       "      <td>319.953928</td>\n",
       "      <td>317.823718</td>\n",
       "      <td>2.130210</td>\n",
       "    </tr>\n",
       "    <tr>\n",
       "      <th>2017-06-30</th>\n",
       "      <td>372.717386</td>\n",
       "      <td>321.066612</td>\n",
       "      <td>51.650775</td>\n",
       "    </tr>\n",
       "    <tr>\n",
       "      <th>2017-07-31</th>\n",
       "      <td>227.173500</td>\n",
       "      <td>319.022940</td>\n",
       "      <td>-91.849440</td>\n",
       "    </tr>\n",
       "    <tr>\n",
       "      <th>2017-08-31</th>\n",
       "      <td>395.945487</td>\n",
       "      <td>319.868028</td>\n",
       "      <td>76.077460</td>\n",
       "    </tr>\n",
       "    <tr>\n",
       "      <th>2017-09-30</th>\n",
       "      <td>349.737422</td>\n",
       "      <td>323.766573</td>\n",
       "      <td>25.970849</td>\n",
       "    </tr>\n",
       "  </tbody>\n",
       "</table>\n",
       "</div>"
      ],
      "text/plain": [
       "                actual   predicted        err\n",
       "2017-05-31  319.953928  317.823718   2.130210\n",
       "2017-06-30  372.717386  321.066612  51.650775\n",
       "2017-07-31  227.173500  319.022940 -91.849440\n",
       "2017-08-31  395.945487  319.868028  76.077460\n",
       "2017-09-30  349.737422  323.766573  25.970849"
      ]
     },
     "execution_count": 41,
     "metadata": {},
     "output_type": "execute_result"
    }
   ],
   "source": [
    "start = len(train)\n",
    "end = len(train) + len(test) - 1\n",
    "\n",
    "print('start = {}, end = {}'.format(start,end))\n",
    "\n",
    "predictions = m4.predict(start=start,end=end,dynamic=True)\n",
    "\n",
    "df_res4 = pd.DataFrame({'actual':actual, 'predicted':predictions})\n",
    "df_res4['err'] = df_res4.actual - df_res4.predicted\n",
    "df_res4.head()"
   ]
  },
  {
   "cell_type": "code",
   "execution_count": 46,
   "id": "43237e77",
   "metadata": {},
   "outputs": [
    {
     "name": "stdout",
     "output_type": "stream",
     "text": [
      "SARIMA Model. Order=(1,0,1)\n",
      "\tMSE = 2641.7276870590495\n",
      "\tRMSE = 51.39774009680824\n"
     ]
    }
   ],
   "source": [
    "# MSE\n",
    "msg4 = 'SARIMA Model. Order=(' + str(p) + ',' + str(d) + ',' + str(q) + ')'\n",
    "mse4 = mean_squared_error(df_res4.actual, df_res4.predicted)\n",
    "print(msg4 + \"\\n\\tMSE = {}\\n\\tRMSE = {}\".format(mse4,np.sqrt(mse4)))"
   ]
  },
  {
   "cell_type": "code",
   "execution_count": 43,
   "id": "7bdaafa5",
   "metadata": {},
   "outputs": [
    {
     "data": {
      "text/plain": [
       "Text(0.5, 1.0, 'ARIMA Model. Order=(1,0,1)')"
      ]
     },
     "execution_count": 43,
     "metadata": {},
     "output_type": "execute_result"
    },
    {
     "data": {
      "image/png": "[encoded data removed]",
      "text/plain": [
       "<Figure size 720x576 with 1 Axes>"
      ]
     },
     "metadata": {
      "needs_background": "light"
     },
     "output_type": "display_data"
    }
   ],
   "source": [
    "df_res4.actual.plot(figsize=(10,8),legend=True)\n",
    "df_res4.predicted.plot(legend=True)\n",
    "plt.title(msg4)"
   ]
  },
  {
   "cell_type": "markdown",
   "id": "0012d4c8",
   "metadata": {},
   "source": [
    "## Conclusion:"
   ]
  },
  {
   "cell_type": "markdown",
   "id": "ce4681e9",
   "metadata": {},
   "source": [
    "###### All the models graph shows the predictions"
   ]
  },
  {
   "cell_type": "markdown",
   "id": "e3249030",
   "metadata": {},
   "source": [
    "##### But we have to compare based upon RMSE values of the models"
   ]
  },
  {
   "cell_type": "markdown",
   "id": "573e79d4",
   "metadata": {},
   "source": [
    "\n",
    "- Model 1. ARMA Model. Order=(2,0,0)\n",
    "\tMSE = 1114.448813473748\n",
    "\tRMSE = 33.383361326770974\n",
    "- Model 2. ARIMA Model. Order=(1,1,1)\n",
    "\tMSE = 2702.8152034230134\n",
    "\tRMSE = 51.988606477025456\n",
    "- Model 3. SARIMA Model. Order=(1,0,1)\n",
    "\tMSE = 2641.7276870590495\n",
    "\tRMSE = 51.39774009680824\n",
    "    \n",
    "     So, from the above values we can conclude that ARMA model is best and can be used for the future forecating"
   ]
  },
  {
   "cell_type": "code",
   "execution_count": null,
   "id": "c1c6d56e",
   "metadata": {},
   "outputs": [],
   "source": []
  }
 ],
 "metadata": {
  "kernelspec": {
   "display_name": "Python 3 (ipykernel)",
   "language": "python",
   "name": "python3"
  },
  "language_info": {
   "codemirror_mode": {
    "name": "ipython",
    "version": 3
   },
   "file_extension": ".py",
   "mimetype": "text/x-python",
   "name": "python",
   "nbconvert_exporter": "python",
   "pygments_lexer": "ipython3",
   "version": "3.9.12"
  }
 },
 "nbformat": 4,
 "nbformat_minor": 5
}
